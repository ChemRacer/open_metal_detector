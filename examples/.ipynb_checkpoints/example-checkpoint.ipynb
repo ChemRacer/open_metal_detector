{
 "cells": [
  {
   "cell_type": "code",
   "execution_count": 1,
   "metadata": {
    "tags": []
   },
   "outputs": [
    {
     "name": "stderr",
     "output_type": "stream",
     "text": [
      "/Users/gjonesresearch/miniconda3/envs/p4env/lib/python3.9/site-packages/pymatgen-2022.2.10-py3.9-macosx-10.9-x86_64.egg/pymatgen/core/__init__.py:49: UserWarning: Error loading .pmgrc.yaml: [Errno 2] No such file or directory: '/Users/gjonesresearch/.pmgrc.yaml'. You may need to reconfigure your yaml file.\n",
      "  warnings.warn(f\"Error loading .pmgrc.yaml: {ex}. You may need to reconfigure your yaml file.\")\n"
     ]
    }
   ],
   "source": [
    "from omsdetector import MofCollection \n",
    "import warnings\n",
    "import os\n",
    "from pymatgen.core import Structure\n",
    "from pymatgen.io.vasp import Poscar\n",
    "from pymatgen.io.cif import CifWriter\n"
   ]
  },
  {
   "cell_type": "markdown",
   "metadata": {},
   "source": [
    "## Creating a MOF Collection\n",
    "### Loading from path names.\n",
    "\n",
    "We can build a **MofCollection** from a list of paths to MOF CIF files. We can also specify the **analysis_folder** where all the results of the analyses perfromed on this MOF collection will be stored. The default value is analysis_folder = 'analysis_folder'."
   ]
  },
  {
   "cell_type": "code",
   "execution_count": null,
   "metadata": {},
   "outputs": [],
   "source": []
  },
  {
   "cell_type": "code",
   "execution_count": 2,
   "metadata": {},
   "outputs": [],
   "source": [
    "# POSCAR to cif\n",
    "path2test='/Users/gjonesresearch/FeO_Local/Zeolite/test_zeolites'\n",
    "structure = Structure.from_file(os.path.join(path2test,'POSCAR'))\n",
    "structure.to(filename=os.path.join(path2test,'zsmfixed.cif'))"
   ]
  },
  {
   "cell_type": "code",
   "execution_count": 6,
   "metadata": {},
   "outputs": [
    {
     "name": "stdout",
     "output_type": "stream",
     "text": [
      "Loading CIF files...\n",
      "100.0 %\n",
      "All Done.\n",
      "There are 1 MOFs in the collection.\n"
     ]
    }
   ],
   "source": [
    "path_list = [os.path.join(path2test,'zsmfixed.cif')]\n",
    "\n",
    "# path_list = ['cif_files_example/HKUST-1_ASR_FIQCEN_clean.cif', \n",
    "             # 'cif_files_example/MgMOF-74_ASR_RAVVUH_clean.cif', \n",
    "             # 'cif_files_example/MOF-5_ASR_MIBQAR_clean.cif']\n",
    "\n",
    "a_mof_collection = MofCollection(path_list = path_list, analysis_folder=\"analysis_folder_example\")\n",
    "\n",
    "print(\"There are {} MOFs in the collection.\".format(len(a_mof_collection)))"
   ]
  },
  {
   "cell_type": "code",
   "execution_count": 7,
   "metadata": {},
   "outputs": [
    {
     "name": "stdout",
     "output_type": "stream",
     "text": [
      "--------------------------------------------------\n",
      "This collection holds information for 1 MOFs.\n",
      "Analysis folder is: /Users/gjonesresearch/open_metal_detector/examples/analysis_folder_example\n",
      "\n",
      "List of cif files in collection:\n",
      "\n",
      "/Users/gjonesresearch/FeO_Local/Zeolite/test_zeolites/zsmfixed.cif\n",
      "--------------------------------------------------\n"
     ]
    }
   ],
   "source": [
    "print(a_mof_collection)"
   ]
  },
  {
   "cell_type": "markdown",
   "metadata": {},
   "source": [
    "### Loading CIFs from folder.\n",
    "\n",
    "It is often conveniet to load all the CIF files located in a specific folder. \n",
    "\n",
    "We can do this by using the **from_folder()** method to create the MofCollection object."
   ]
  },
  {
   "cell_type": "code",
   "execution_count": 9,
   "metadata": {},
   "outputs": [
    {
     "name": "stdout",
     "output_type": "stream",
     "text": [
      "Loading CIF files...\n",
      "100.0 %\n",
      "All Done.\n",
      "There are 1 MOFs in the collection.\n"
     ]
    }
   ],
   "source": [
    "a_mof_collection = MofCollection.from_folder(collection_folder=path2test, analysis_folder=\"analysis_folder_example\")\n",
    "\n",
    "print(\"There are {} MOFs in the collection.\".format(len(a_mof_collection)))"
   ]
  },
  {
   "cell_type": "markdown",
   "metadata": {},
   "source": [
    "### Loading selected CIFs from folder.\n",
    "\n",
    "We might have a large number of CIFs in a folder but are only interested in examing a small subset of them. To accomplish this we can create a MofCollection from a folder as before but this time provide the additional argument __name_list__ which is a list of the names of MOFs we are interested in. \n",
    "\n",
    "For example:"
   ]
  },
  {
   "cell_type": "code",
   "execution_count": 10,
   "metadata": {},
   "outputs": [
    {
     "name": "stdout",
     "output_type": "stream",
     "text": [
      "--------------------------------------------------\n",
      "Using only MOFs in the name list.\n",
      "--------------------------------------------------\n",
      "Loading CIF files...\n",
      "100.0 %\n",
      "All Done.\n",
      "There are 1 MOFs in the collection.\n"
     ]
    }
   ],
   "source": [
    "a_mof_collection_name_list = MofCollection.from_folder(collection_folder=path2test, \n",
    "                                                       analysis_folder=\"analysis_folder_example\",\n",
    "                                                       name_list=[\"zsmfixed.cif\"])\n",
    "\n",
    "print(\"There are {} MOFs in the collection.\".format(len(a_mof_collection_name_list)))"
   ]
  },
  {
   "cell_type": "markdown",
   "metadata": {},
   "source": [
    "## Filtering a Collection\n",
    "Before analyzing the MOFs in the collection we created we might want to filter the collection and keep only MOFs with certain characteristics, for example MOFs that contain certain metal atoms.\n",
    "\n",
    "We can do this using the **filter_collection()** method on the collection object. The CIF files that match the filter will be included to this collection. \n",
    "\n",
    "### Keep CIF files in original location\n",
    "\n",
    "By default the cif files will be still pointing to the original location. This might be useful if we want to analyze a subset of MOFs without copying over the files."
   ]
  },
  {
   "cell_type": "code",
   "execution_count": 11,
   "metadata": {},
   "outputs": [
    {
     "name": "stdout",
     "output_type": "stream",
     "text": [
      "--------------------------------------------------\n",
      "\n",
      "Validating property : \"metal_species\"\n",
      "Validated 100 %                                                                                                      \n",
      "--------------------------------------------------\n",
      "Filtering collection.\n",
      "\n",
      "1 MOFs were matched using the provided filter.\n",
      "Returning a new collection using the matched MOFs.\n",
      "Loading CIF files...\n",
      "100.0 %\n",
      "All Done.\n",
      "--------------------------------------------------\n"
     ]
    }
   ],
   "source": [
    "Fe_coll = a_mof_collection.filter_collection(using_filter={\"metal_species\":[\"Fe\"]})"
   ]
  },
  {
   "cell_type": "markdown",
   "metadata": {},
   "source": [
    "### Define a new CIF folder when filtering\n",
    "If the keyword **new_collection_folder** is set when filtering a collection the CIF files will be coppied to that folder and paths for the CIF files of the collection will be updated to point to the new location."
   ]
  },
  {
   "cell_type": "code",
   "execution_count": 12,
   "metadata": {},
   "outputs": [
    {
     "name": "stdout",
     "output_type": "stream",
     "text": [
      "--------------------------------------------------\n",
      "\n",
      "Validating property : \"metal_species\"\n",
      "Validated 100 %                                                                                                      \n",
      "--------------------------------------------------\n",
      "Filtering collection.\n",
      "\n",
      "1 MOFs were matched using the provided filter.\n",
      "Returning a new collection using the matched MOFs.\n",
      "Loading CIF files...\n",
      "100.0 %\n",
      "All Done.\n",
      "--------------------------------------------------\n",
      "--------------------------------------------------\n",
      "The cif files for this collection will be copied to the specified folder:\n",
      "\"/Users/gjonesresearch/open_metal_detector/examples/Fe_mofs\"\n",
      "The cif paths will be updated.\n",
      "--------------------------------------------------\n"
     ]
    }
   ],
   "source": [
    "Fe_coll = a_mof_collection.filter_collection(using_filter={\"metal_species\":[\"Fe\"]},new_collection_folder=\"Fe_mofs\")"
   ]
  },
  {
   "cell_type": "markdown",
   "metadata": {},
   "source": [
    "### Copy filtered collection later\n",
    "\n",
    "The third option is to create a filtered collection and explicitly copy the files at a later stage."
   ]
  },
  {
   "cell_type": "code",
   "execution_count": 13,
   "metadata": {},
   "outputs": [
    {
     "name": "stdout",
     "output_type": "stream",
     "text": [
      "--------------------------------------------------\n",
      "\n",
      "Validating properties : \"metal_species, non_metal_species\"\n",
      "Validated 100 %                                                                                                      \n",
      "--------------------------------------------------\n",
      "Filtering collection.\n",
      "\n",
      "1 MOFs were matched using the provided filter.\n",
      "Returning a new collection using the matched MOFs.\n",
      "Loading CIF files...\n",
      "100.0 %\n",
      "All Done.\n",
      "--------------------------------------------------\n",
      "--------------------------------------------------\n",
      "This collection holds information for 1 MOFs.\n",
      "Analysis folder is: /Users/gjonesresearch/open_metal_detector/examples/analysis_folder_example\n",
      "\n",
      "List of cif files in collection:\n",
      "\n",
      "/Users/gjonesresearch/FeO_Local/Zeolite/test_zeolites/zsmfixed.cif\n",
      "--------------------------------------------------\n"
     ]
    }
   ],
   "source": [
    "Fe_coll = a_mof_collection.filter_collection(using_filter={\"metal_species\":[\"Fe\"], \"non_metal_species\":[\"O\"]})\n",
    "print(Fe_coll)"
   ]
  },
  {
   "cell_type": "code",
   "execution_count": 14,
   "metadata": {},
   "outputs": [
    {
     "name": "stdout",
     "output_type": "stream",
     "text": [
      "--------------------------------------------------\n",
      "The cif files for this collection will be copied to the specified folder:\n",
      "\"/Users/gjonesresearch/open_metal_detector/examples/Fe_mofs\"\n",
      "The cif paths will be updated.\n",
      "--------------------------------------------------\n",
      "--------------------------------------------------\n",
      "This collection holds information for 1 MOFs.\n",
      "Analysis folder is: /Users/gjonesresearch/open_metal_detector/examples/analysis_folder_example\n",
      "\n",
      "List of cif files in collection:\n",
      "\n",
      "/Users/gjonesresearch/open_metal_detector/examples/Fe_mofs/zsmfixed.cif\n",
      "--------------------------------------------------\n"
     ]
    }
   ],
   "source": [
    "Fe_coll.copy_cifs(target_folder=\"Fe_mofs\")\n",
    "print(Fe_coll)"
   ]
  },
  {
   "cell_type": "markdown",
   "metadata": {},
   "source": [
    "The same operations can be performed for any results that might be present using the **new_analysis_folder** keyword  or the **copy_results()** function."
   ]
  },
  {
   "cell_type": "markdown",
   "metadata": {},
   "source": [
    "## Analyze a MOF Collection\n",
    "\n",
    "Once we have a MOF collection we can run the **analyse_mofs()** method on it, which will detect all the open metal sites (OMS) in the collection. "
   ]
  },
  {
   "cell_type": "code",
   "execution_count": 15,
   "metadata": {},
   "outputs": [
    {
     "name": "stdout",
     "output_type": "stream",
     "text": [
      "--------------------------------------------------\n",
      "Running OMS Analysis...\n",
      "--------------------------------------------------\n",
      "1 batch requested. \n",
      "Overwrite is set to False. \n",
      "Storing results in analysis_folder_example/oms_results. \n",
      "--------------------------------------------------\n",
      "\n",
      "Validating property : \"load_balancing_index\"\n",
      "Validated 100 %                                                                                                      \n",
      "--------------------------------------------------\n",
      "Checking if results for any of the MOFs exist...\n",
      "Will not skip any MOFs\n",
      "--------------------------------------------------\n",
      "Batch 1 has 1 MOFs\n",
      "--------------------------------------------------\n",
      "Batch 1 100.00 % : Analysing zsmfixed                                                                                                    \r"
     ]
    },
    {
     "name": "stderr",
     "output_type": "stream",
     "text": [
      "/Users/gjonesresearch/miniconda3/envs/p4env/lib/python3.9/site-packages/pymatgen-2022.2.10-py3.9-macosx-10.9-x86_64.egg/pymatgen/core/__init__.py:49: UserWarning: Error loading .pmgrc.yaml: [Errno 2] No such file or directory: '/Users/gjonesresearch/.pmgrc.yaml'. You may need to reconfigure your yaml file.\n",
      "  warnings.warn(f\"Error loading .pmgrc.yaml: {ex}. You may need to reconfigure your yaml file.\")\n"
     ]
    },
    {
     "name": "stdout",
     "output_type": "stream",
     "text": [
      "Batch 1 Finished.                                                                                                                        \n",
      "Validating property : \"has_oms\"\n",
      "Validated 100 %                                                                                                      \n",
      "\n",
      "Analysis Finished. Time required:17.48 sec\n",
      "--------------------------------------------------\n"
     ]
    }
   ],
   "source": [
    "a_mof_collection.analyse_mofs()"
   ]
  },
  {
   "cell_type": "markdown",
   "metadata": {},
   "source": [
    "### How to overwrite results\n",
    "\n",
    "If we try to re-run the analysis code it will by default only analyze MOFs for which no results can be found. This makes it easy to resume a calculation that ended prematurely."
   ]
  },
  {
   "cell_type": "code",
   "execution_count": 16,
   "metadata": {},
   "outputs": [
    {
     "name": "stdout",
     "output_type": "stream",
     "text": [
      "--------------------------------------------------\n",
      "Running OMS Analysis...\n",
      "--------------------------------------------------\n",
      "1 batch requested. \n",
      "Overwrite is set to False. \n",
      "Storing results in analysis_folder_example/oms_results. \n",
      "--------------------------------------------------\n",
      "\n",
      "Validating property : \"load_balancing_index\"\n",
      "Validated 100 %                                                                                                      \n",
      "--------------------------------------------------\n",
      "Checking if results for any of the MOFs exist...\n",
      "Skipping 1 MOFs because results were found. \n",
      "--------------------------------------------------\n",
      "Batch 1 has 0 MOFs\n",
      "--------------------------------------------------\n",
      "Batch 1 Finished.                                                                                                    \r"
     ]
    },
    {
     "name": "stderr",
     "output_type": "stream",
     "text": [
      "/Users/gjonesresearch/miniconda3/envs/p4env/lib/python3.9/site-packages/pymatgen-2022.2.10-py3.9-macosx-10.9-x86_64.egg/pymatgen/core/__init__.py:49: UserWarning: Error loading .pmgrc.yaml: [Errno 2] No such file or directory: '/Users/gjonesresearch/.pmgrc.yaml'. You may need to reconfigure your yaml file.\n",
      "  warnings.warn(f\"Error loading .pmgrc.yaml: {ex}. You may need to reconfigure your yaml file.\")\n"
     ]
    },
    {
     "name": "stdout",
     "output_type": "stream",
     "text": [
      "Batch 1 Finished.                                                                                                    \n",
      "Validating property : \"has_oms\"\n",
      "Validated 100 %                                                                                                      \n",
      "\n",
      "Analysis Finished. Time required:3.67 sec\n",
      "--------------------------------------------------\n"
     ]
    }
   ],
   "source": [
    "a_mof_collection.analyse_mofs()"
   ]
  },
  {
   "cell_type": "markdown",
   "metadata": {},
   "source": [
    "To control this behavior and force all the MOFs for which results exist to be reanalyzed we can set the keyword **overwrite** to True."
   ]
  },
  {
   "cell_type": "code",
   "execution_count": 17,
   "metadata": {},
   "outputs": [
    {
     "name": "stdout",
     "output_type": "stream",
     "text": [
      "--------------------------------------------------\n",
      "Running OMS Analysis...\n",
      "--------------------------------------------------\n",
      "1 batch requested. \n",
      "Overwrite is set to True. \n",
      "Storing results in analysis_folder_example/oms_results. \n",
      "--------------------------------------------------\n",
      "\n",
      "Validating property : \"load_balancing_index\"\n",
      "Validated 100 %                                                                                                      \n",
      "--------------------------------------------------\n",
      "--------------------------------------------------\n",
      "Batch 1 has 1 MOFs\n",
      "--------------------------------------------------\n",
      "Batch 1 100.00 % : Analysing zsmfixed                                                                                                    \r"
     ]
    },
    {
     "name": "stderr",
     "output_type": "stream",
     "text": [
      "/Users/gjonesresearch/miniconda3/envs/p4env/lib/python3.9/site-packages/pymatgen-2022.2.10-py3.9-macosx-10.9-x86_64.egg/pymatgen/core/__init__.py:49: UserWarning: Error loading .pmgrc.yaml: [Errno 2] No such file or directory: '/Users/gjonesresearch/.pmgrc.yaml'. You may need to reconfigure your yaml file.\n",
      "  warnings.warn(f\"Error loading .pmgrc.yaml: {ex}. You may need to reconfigure your yaml file.\")\n"
     ]
    },
    {
     "name": "stdout",
     "output_type": "stream",
     "text": [
      "Batch 1 Finished.                                                                                                                        \n",
      "Validating property : \"has_oms\"\n",
      "Validated 100 %                                                                                                      \n",
      "\n",
      "Analysis Finished. Time required:17.22 sec\n",
      "--------------------------------------------------\n"
     ]
    }
   ],
   "source": [
    "a_mof_collection.analyse_mofs(overwrite=True)"
   ]
  },
  {
   "cell_type": "markdown",
   "metadata": {},
   "source": [
    "### Run analysis in parallel\n",
    "\n",
    "Since every MOF can be analyzed separately we can parallelize the analysis by splitting the structures in batches and running each batch as a separate process. The number of batches is specified using the **num_batches** keyword for which the default value is 1. The structures are first ordered based on the square of the number of atoms and then split into batches. This ensures that all the batches will run roughly in the same time, which results in a time efficient completion of the analysis."
   ]
  },
  {
   "cell_type": "code",
   "execution_count": 23,
   "metadata": {},
   "outputs": [],
   "source": [
    "# a_mof_collection.analyse_mofs(num_batches=3, overwrite=True)"
   ]
  },
  {
   "cell_type": "markdown",
   "metadata": {},
   "source": [
    "## Summarizing Results\n",
    "\n",
    "### Summary for each metal type\n",
    "\n",
    "We can get a table that summarizes the findings for each metal type using the __summarize_results()__ function."
   ]
  },
  {
   "cell_type": "code",
   "execution_count": 19,
   "metadata": {},
   "outputs": [
    {
     "name": "stdout",
     "output_type": "stream",
     "text": [
      "\n",
      "Validating property : \"has_oms\"\n",
      "Validated 100 %                                                                                                      \n",
      "--------------------------------------------------\n",
      "Number of total MOFs: 1\n",
      "Number of total MOFs with open metal sites: 0\n",
      "Number of total unique sites: 40\n",
      "Number of total unique open metal sites: 0\n",
      "--------------------------------------------------\n",
      "Summary Table\n",
      "\n",
      "       MOFs  MOFs_with_OMS  Metal Sites  OMS MOFs_with_OMS(%) OMS (%)\n",
      "metal                                                                \n",
      "Al        1              0            2    0           0.00 %  0.00 %\n",
      "Fe        1              0            2    0           0.00 %  0.00 %\n",
      "Si        1              0           36    0           0.00 %  0.00 %\n"
     ]
    }
   ],
   "source": [
    "a_mof_collection.summarize_results()"
   ]
  },
  {
   "cell_type": "markdown",
   "metadata": {},
   "source": [
    "### Summary for each MOF\n",
    "\n",
    "We can obtain a DataFrame for the OMS for each MOF using the __mof_oms_df__ variable of the __MofCollection__ object."
   ]
  },
  {
   "cell_type": "code",
   "execution_count": 20,
   "metadata": {},
   "outputs": [
    {
     "name": "stdout",
     "output_type": "stream",
     "text": [
      "\n",
      "Validating property : \"has_oms\"\n",
      "Validated 100 %                                                                                                      \n",
      "         Metal Types Has OMS OMS Types\n",
      "zsmfixed    Al,Fe,Si      No       N/A\n"
     ]
    }
   ],
   "source": [
    "mofs_df = a_mof_collection.mof_oms_df\n",
    "print(mofs_df)"
   ]
  },
  {
   "cell_type": "markdown",
   "metadata": {},
   "source": [
    "We can then use standard pandas operations to select MOFs, for example, with certain metals or all MOFs that have OMS."
   ]
  },
  {
   "cell_type": "code",
   "execution_count": 21,
   "metadata": {},
   "outputs": [
    {
     "name": "stdout",
     "output_type": "stream",
     "text": [
      "MOFs that contain Fe\n",
      "         Metal Types Has OMS OMS Types\n",
      "zsmfixed    Al,Fe,Si      No       N/A\n",
      "\n",
      "MOFs that have OMS\n",
      "Empty DataFrame\n",
      "Columns: [Metal Types, Has OMS, OMS Types]\n",
      "Index: []\n"
     ]
    }
   ],
   "source": [
    "print(\"MOFs that contain Fe\")\n",
    "print(mofs_df[mofs_df[\"Metal Types\"].str.contains(\"Fe\")])\n",
    "print(\"\\nMOFs that have OMS\")\n",
    "print(mofs_df[mofs_df[\"Has OMS\"] == \"Yes\"])"
   ]
  },
  {
   "cell_type": "markdown",
   "metadata": {},
   "source": [
    "### Filter collection using results\n",
    "\n",
    "Finally, we can use the filter function to isolate, for example, MOFs that have Co metal sites and that contain open metal sites. We can also copy the cif files and result files for this subset to new locations by providing values for the **new_collection_folder** and **new_analysis_folder** keywords."
   ]
  },
  {
   "cell_type": "code",
   "execution_count": 22,
   "metadata": {},
   "outputs": [
    {
     "name": "stdout",
     "output_type": "stream",
     "text": [
      "--------------------------------------------------\n",
      "\n",
      "Validating properties : \"metal_species, has_oms\"\n",
      "Validated 100 %                                                                                                      \n",
      "--------------------------------------------------\n",
      "Filtering collection.\n",
      "\n",
      "No MOFs were matched using the provided filter.\n",
      "No collection returned.\n",
      "None\n"
     ]
    }
   ],
   "source": [
    "Fe_oms = a_mof_collection.filter_collection(using_filter={\"metal_species\":[\"Fe\"], \"has_oms\":True},\n",
    "                                            new_collection_folder='Fe_oms',\n",
    "                                            new_analysis_folder='Fe_oms_analysis')\n",
    "\n",
    "print(Fe_oms)"
   ]
  },
  {
   "cell_type": "code",
   "execution_count": null,
   "metadata": {},
   "outputs": [],
   "source": []
  }
 ],
 "metadata": {
  "kernelspec": {
   "display_name": "omd",
   "language": "python",
   "name": "omd"
  },
  "language_info": {
   "codemirror_mode": {
    "name": "ipython",
    "version": 3
   },
   "file_extension": ".py",
   "mimetype": "text/x-python",
   "name": "python",
   "nbconvert_exporter": "python",
   "pygments_lexer": "ipython3",
   "version": "3.9.9"
  }
 },
 "nbformat": 4,
 "nbformat_minor": 4
}
