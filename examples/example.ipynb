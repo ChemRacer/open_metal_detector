{
 "cells": [
  {
   "cell_type": "code",
   "execution_count": 5,
   "metadata": {},
   "outputs": [],
   "source": [
    "from omsdetector import MofCollection \n",
    "import warnings"
   ]
  },
  {
   "cell_type": "markdown",
   "metadata": {},
   "source": [
    "## Creating a MOF Collection\n",
    "### Loading from path names.\n",
    "\n",
    "We can build a **MofCollection** from a list of paths to MOF CIF files. We can also specify the **analysis_folder** where all the results of the analyses perfromed on this MOF collection will be stored. The default value is analysis_folder = 'analysis_folder'."
   ]
  },
  {
   "cell_type": "code",
   "execution_count": 7,
   "metadata": {},
   "outputs": [
    {
     "name": "stdout",
     "output_type": "stream",
     "text": [
      "Loading CIF files...\n",
      "100.0 %\n",
      "All Done.\n",
      "There are 3 MOFs in the collection.\n"
     ]
    }
   ],
   "source": [
    "path_list = ['cif_files_example/JUTCUW_clean.cif', \n",
    "             'cif_files_example/PIYZAZ_clean.cif', \n",
    "             'cif_files_example/FIGXAU_clean.cif']\n",
    "\n",
    "a_mof_collection = MofCollection(path_list = path_list, \n",
    "                                 analysis_folder=\"analysis_folder_example\")\n",
    "\n",
    "print(\"There are {} MOFs in the collection.\".format(len(a_mof_collection)))"
   ]
  },
  {
   "cell_type": "code",
   "execution_count": 8,
   "metadata": {},
   "outputs": [
    {
     "name": "stdout",
     "output_type": "stream",
     "text": [
      "--------------------------------------------------\n",
      "This collection holds information for 3 MOFs.\n",
      "Analysis folder is: /run/media/emmhald/tbDrive/build_msi/open_metal_detector/examples/analysis_folder_example\n",
      "\n",
      "List of cif files in collection:\n",
      "\n",
      "cif_files_example/JUTCUW_clean.cif\n",
      "cif_files_example/PIYZAZ_clean.cif\n",
      "cif_files_example/FIGXAU_clean.cif\n",
      "--------------------------------------------------\n"
     ]
    }
   ],
   "source": [
    "print(a_mof_collection)"
   ]
  },
  {
   "cell_type": "markdown",
   "metadata": {},
   "source": [
    "### Loading CIFs from folder.\n",
    "\n",
    "It is often conveniet to load all the CIF files located in a specific folder. \n",
    "\n",
    "We can do this by using the **from_folder()** method to create the MofCollection object."
   ]
  },
  {
   "cell_type": "code",
   "execution_count": 9,
   "metadata": {},
   "outputs": [
    {
     "name": "stdout",
     "output_type": "stream",
     "text": [
      "Loading CIF files...\n",
      "100.0 %\n",
      "All Done.\n",
      "There are 50 MOFs in the collection.\n"
     ]
    }
   ],
   "source": [
    "a_mof_collection = MofCollection.from_folder(collection_folder=\"cif_files_example\", \n",
    "                                             analysis_folder=\"analysis_folder_example\")\n",
    "\n",
    "print(\"There are {} MOFs in the collection.\".format(len(a_mof_collection)))"
   ]
  },
  {
   "cell_type": "markdown",
   "metadata": {},
   "source": [
    "### Loading selected CIFs from folder.\n",
    "\n",
    "We might have a large number of CIFs in a folder but are only interested in examing a small subset of them. To accomplish this we can create a MofCollection from a folder as before but this time provide the additional argument __name_list__ which is a list of the names of MOFs we are interested in. \n",
    "\n",
    "For example:"
   ]
  },
  {
   "cell_type": "code",
   "execution_count": 10,
   "metadata": {},
   "outputs": [
    {
     "name": "stdout",
     "output_type": "stream",
     "text": [
      "--------------------------------------------------\n",
      "Using only MOFs in the name list.\n",
      "--------------------------------------------------\n",
      "Loading CIF files...\n",
      "100.0 %\n",
      "All Done.\n",
      "There are 3 MOFs in the collection.\n"
     ]
    }
   ],
   "source": [
    "a_mof_collection_name_list = MofCollection.from_folder(collection_folder=\"cif_files_example\", \n",
    "                                                       analysis_folder=\"analysis_folder_example\",\n",
    "                                                       name_list=['JUTCUW_clean.cif', \n",
    "                                                                  'PIYZAZ_clean.cif', \n",
    "                                                                  'FIGXAU_clean.cif'])\n",
    "\n",
    "print(\"There are {} MOFs in the collection.\".format(len(a_mof_collection_name_list)))"
   ]
  },
  {
   "cell_type": "markdown",
   "metadata": {},
   "source": [
    "## Filtering a Collection\n",
    "Before analyzing the MOFs in the collection we created we might want to filter the collection and keep only MOFs with certain characteristics, for example MOFs that contain certain metal atoms.\n",
    "\n",
    "We can do this using the **filter_collection()** method on the collection object. The CIF files that match the filter will be included to this collection. \n",
    "\n",
    "### Keep CIF files in original location\n",
    "\n",
    "By default the cif files will be still pointing to the original location. This might be useful if we want to analyze a subset of MOFs without copying over the files."
   ]
  },
  {
   "cell_type": "code",
   "execution_count": 11,
   "metadata": {},
   "outputs": [
    {
     "name": "stdout",
     "output_type": "stream",
     "text": [
      "--------------------------------------------------\n",
      "\n",
      "Validating property : \"metal_species\"\n",
      "FIGXEY_clean 14.0 %                                                                                                       \r"
     ]
    },
    {
     "name": "stderr",
     "output_type": "stream",
     "text": [
      "/run/media/emmhald/tbDrive/build_msi/open_metal_detector/venv/lib/python3.6/site-packages/pymatgen/io/cif.py:43: UserWarning: Please install optional dependency pybtex if youwant to extract references from CIF files.\n",
      "  warnings.warn(\"Please install optional dependency pybtex if you\"\n"
     ]
    },
    {
     "name": "stdout",
     "output_type": "stream",
     "text": [
      "Validated 100 %                                                                                                           \n",
      "--------------------------------------------------\n",
      "Filtering collection.\n",
      "\n",
      "11 MOFs were matched using the provided filter.\n",
      "Returning a new collection using the matched MOFs.\n",
      "Loading CIF files...\n",
      "100.0 %\n",
      "All Done.\n",
      "--------------------------------------------------\n"
     ]
    }
   ],
   "source": [
    "co_coll = a_mof_collection.filter_collection(using_filter={\"metal_species\":[\"Co\"]})"
   ]
  },
  {
   "cell_type": "markdown",
   "metadata": {},
   "source": [
    "### Define a new CIF folder when filtering\n",
    "If the keyword **new_collection_folder** is set when filtering a collection the CIF files will be coppied to that folder and paths for the CIF files of the collection will be updated to point to the new location."
   ]
  },
  {
   "cell_type": "code",
   "execution_count": 12,
   "metadata": {},
   "outputs": [
    {
     "name": "stdout",
     "output_type": "stream",
     "text": [
      "--------------------------------------------------\n",
      "\n",
      "Validating property : \"metal_species\"\n",
      "Validated 100 %                                                                                                           \n",
      "--------------------------------------------------\n",
      "Filtering collection.\n",
      "\n",
      "11 MOFs were matched using the provided filter.\n",
      "Returning a new collection using the matched MOFs.\n",
      "Loading CIF files...\n",
      "100.0 %\n",
      "All Done.\n",
      "--------------------------------------------------\n",
      "--------------------------------------------------\n",
      "The cif files for this collection will be copied to the specified folder:\n",
      "\"/run/media/emmhald/tbDrive/build_msi/open_metal_detector/examples/Co_mofs\"\n",
      "The cif paths will be updated.\n",
      "--------------------------------------------------\n"
     ]
    }
   ],
   "source": [
    "co_coll = a_mof_collection.filter_collection(using_filter={\"metal_species\":[\"Co\"]}, \n",
    "                                             new_collection_folder=\"Co_mofs\")"
   ]
  },
  {
   "cell_type": "markdown",
   "metadata": {},
   "source": [
    "### Copy filtered collection later\n",
    "\n",
    "The third option is to create a filtered collection and explicitly copy the files at a later stage."
   ]
  },
  {
   "cell_type": "code",
   "execution_count": 13,
   "metadata": {},
   "outputs": [
    {
     "name": "stdout",
     "output_type": "stream",
     "text": [
      "--------------------------------------------------\n",
      "\n",
      "Validating properties : \"metal_species, non_metal_species\"\n",
      "Validated 100 %                                                                                                           \n",
      "--------------------------------------------------\n",
      "Filtering collection.\n",
      "\n",
      "11 MOFs were matched using the provided filter.\n",
      "Returning a new collection using the matched MOFs.\n",
      "Loading CIF files...\n",
      "100.0 %\n",
      "All Done.\n",
      "--------------------------------------------------\n",
      "--------------------------------------------------\n",
      "This collection holds information for 11 MOFs.\n",
      "Analysis folder is: /run/media/emmhald/tbDrive/build_msi/open_metal_detector/examples/analysis_folder_example\n",
      "\n",
      "List of cif files in collection:\n",
      "\n",
      "cif_files_example/OGIYAF_clean.cif\n",
      "cif_files_example/QATPUX_clean.cif\n",
      "cif_files_example/REGJIW01_clean.cif\n",
      "cif_files_example/REGJIW02_clean.cif\n",
      "cif_files_example/RENWEM01_clean.cif\n",
      "cif_files_example/RENWEM_clean.cif\n",
      "cif_files_example/YUCNEQ_clean.cif\n",
      "cif_files_example/IGAHED01_clean.cif\n",
      "cif_files_example/IGAHED02_clean.cif\n",
      "cif_files_example/IGAHED_clean.cif\n",
      "cif_files_example/REGJIW_clean.cif\n",
      "--------------------------------------------------\n"
     ]
    }
   ],
   "source": [
    "co_coll = a_mof_collection.filter_collection(using_filter={\"metal_species\":[\"Co\"], \"non_metal_species\":[\"C\"]})\n",
    "print(co_coll)"
   ]
  },
  {
   "cell_type": "code",
   "execution_count": 14,
   "metadata": {},
   "outputs": [
    {
     "name": "stdout",
     "output_type": "stream",
     "text": [
      "--------------------------------------------------\n",
      "The cif files for this collection will be copied to the specified folder:\n",
      "\"/run/media/emmhald/tbDrive/build_msi/open_metal_detector/examples/Co_mofs\"\n",
      "The cif paths will be updated.\n",
      "--------------------------------------------------\n",
      "--------------------------------------------------\n",
      "This collection holds information for 11 MOFs.\n",
      "Analysis folder is: /run/media/emmhald/tbDrive/build_msi/open_metal_detector/examples/analysis_folder_example\n",
      "\n",
      "List of cif files in collection:\n",
      "\n",
      "/run/media/emmhald/tbDrive/build_msi/open_metal_detector/examples/Co_mofs/OGIYAF_clean.cif\n",
      "/run/media/emmhald/tbDrive/build_msi/open_metal_detector/examples/Co_mofs/QATPUX_clean.cif\n",
      "/run/media/emmhald/tbDrive/build_msi/open_metal_detector/examples/Co_mofs/REGJIW01_clean.cif\n",
      "/run/media/emmhald/tbDrive/build_msi/open_metal_detector/examples/Co_mofs/REGJIW02_clean.cif\n",
      "/run/media/emmhald/tbDrive/build_msi/open_metal_detector/examples/Co_mofs/RENWEM01_clean.cif\n",
      "/run/media/emmhald/tbDrive/build_msi/open_metal_detector/examples/Co_mofs/RENWEM_clean.cif\n",
      "/run/media/emmhald/tbDrive/build_msi/open_metal_detector/examples/Co_mofs/YUCNEQ_clean.cif\n",
      "/run/media/emmhald/tbDrive/build_msi/open_metal_detector/examples/Co_mofs/IGAHED01_clean.cif\n",
      "/run/media/emmhald/tbDrive/build_msi/open_metal_detector/examples/Co_mofs/IGAHED02_clean.cif\n",
      "/run/media/emmhald/tbDrive/build_msi/open_metal_detector/examples/Co_mofs/IGAHED_clean.cif\n",
      "/run/media/emmhald/tbDrive/build_msi/open_metal_detector/examples/Co_mofs/REGJIW_clean.cif\n",
      "--------------------------------------------------\n"
     ]
    }
   ],
   "source": [
    "co_coll.copy_cifs(target_folder=\"Co_mofs\")\n",
    "print(co_coll)"
   ]
  },
  {
   "cell_type": "markdown",
   "metadata": {},
   "source": [
    "The same operations can be performed for any results that might be present using the **new_analysis_folder** keyword  or the **copy_results()** function."
   ]
  },
  {
   "cell_type": "markdown",
   "metadata": {},
   "source": [
    "## Analyze a MOF Collection\n",
    "\n",
    "Once we have a MOF collection we can run the **analyse_mofs()** method on it, which will detect all the open metal sites (OMS) in the collection. "
   ]
  },
  {
   "cell_type": "code",
   "execution_count": 15,
   "metadata": {},
   "outputs": [
    {
     "name": "stdout",
     "output_type": "stream",
     "text": [
      "--------------------------------------------------\n",
      "Running OMS Analysis...\n",
      "--------------------------------------------------\n",
      "1 batch requested. \n",
      "Overwrite is set to False. \n",
      "Storing results in analysis_folder_example/oms_results. \n",
      "--------------------------------------------------\n",
      "\n",
      "Validating property : \"load_balancing_index\"\n",
      "Validated 100 %                                                                                                           \n",
      "--------------------------------------------------\n",
      "Checking if results for any of the MOFs exist...\n",
      "Will not skip any MOFs\n",
      "--------------------------------------------------\n",
      "Batch 1 has 50 MOFs\n",
      "--------------------------------------------------\n",
      "Batch 1 Finished.                                                                                                                             \n",
      "Validating property : \"has_oms\"\n",
      "Validated 100 %                                                                                                           \n",
      "\n",
      "Analysis Finished. Time required:11.89 sec\n",
      "--------------------------------------------------\n"
     ]
    }
   ],
   "source": [
    "a_mof_collection.analyse_mofs()"
   ]
  },
  {
   "cell_type": "markdown",
   "metadata": {},
   "source": [
    "### How to overwrite results\n",
    "\n",
    "If we try to re-run the analysis code it will by default only analyze MOFs for which no results can be found. This makes it easy to resume a calculation that ended prematurely."
   ]
  },
  {
   "cell_type": "code",
   "execution_count": 16,
   "metadata": {},
   "outputs": [
    {
     "name": "stdout",
     "output_type": "stream",
     "text": [
      "--------------------------------------------------\n",
      "Running OMS Analysis...\n",
      "--------------------------------------------------\n",
      "1 batch requested. \n",
      "Overwrite is set to False. \n",
      "Storing results in analysis_folder_example/oms_results. \n",
      "--------------------------------------------------\n",
      "\n",
      "Validating property : \"load_balancing_index\"\n",
      "Validated 100 %                                                                                                           \n",
      "--------------------------------------------------\n",
      "Checking if results for any of the MOFs exist...\n",
      "Skipping 50 MOFs because results were found. \n",
      "--------------------------------------------------\n",
      "Batch 1 has 0 MOFs\n",
      "--------------------------------------------------\n",
      "Batch 1 Finished.                                                                                                    \n",
      "Validating property : \"has_oms\"\n",
      "Validated 100 %                                                                                                           \n",
      "\n",
      "Analysis Finished. Time required:0.25 sec\n",
      "--------------------------------------------------\n"
     ]
    }
   ],
   "source": [
    "a_mof_collection.analyse_mofs()"
   ]
  },
  {
   "cell_type": "markdown",
   "metadata": {},
   "source": [
    "To control this behavior and force all the MOFs for which results exist to be reanalyzed we can set the keyword **overwrite** to True."
   ]
  },
  {
   "cell_type": "code",
   "execution_count": 17,
   "metadata": {},
   "outputs": [
    {
     "name": "stdout",
     "output_type": "stream",
     "text": [
      "--------------------------------------------------\n",
      "Running OMS Analysis...\n",
      "--------------------------------------------------\n",
      "1 batch requested. \n",
      "Overwrite is set to True. \n",
      "Storing results in analysis_folder_example/oms_results. \n",
      "--------------------------------------------------\n",
      "\n",
      "Validating property : \"load_balancing_index\"\n",
      "Validated 100 %                                                                                                           \n",
      "--------------------------------------------------\n",
      "--------------------------------------------------\n",
      "Batch 1 has 50 MOFs\n",
      "--------------------------------------------------\n",
      "Batch 1 Finished.                                                                                                                             \n",
      "Validating property : \"has_oms\"\n",
      "Validated 100 %                                                                                                           \n",
      "\n",
      "Analysis Finished. Time required:10.82 sec\n",
      "--------------------------------------------------\n"
     ]
    }
   ],
   "source": [
    "a_mof_collection.analyse_mofs(overwrite=True)"
   ]
  },
  {
   "cell_type": "markdown",
   "metadata": {},
   "source": [
    "### Run analysis in parallel\n",
    "\n",
    "Since every MOF can be analyzed separately we can parallelize the analysis by splitting the structures in batches and running each batch as a separate process. The number of batches is specified using the **num_batches** keyword for which the default value is 1. The structures are first ordered based on the square of the number of atoms and then split into batches. This ensures that all the batches will run roughly in the same time, which results in a time efficient completion of the analysis."
   ]
  },
  {
   "cell_type": "code",
   "execution_count": 18,
   "metadata": {},
   "outputs": [
    {
     "name": "stdout",
     "output_type": "stream",
     "text": [
      "--------------------------------------------------\n",
      "Running OMS Analysis...\n",
      "--------------------------------------------------\n",
      "3 batches requested. \n",
      "Overwrite is set to True. \n",
      "Storing results in analysis_folder_example/oms_results. \n",
      "--------------------------------------------------\n",
      "\n",
      "Validating property : \"load_balancing_index\"\n",
      "Validated 100 %                                                                                                           \n",
      "--------------------------------------------------\n",
      "--------------------------------------------------\n",
      "Batch 1 has 25 MOFs\n",
      "Batch 2 has 15 MOFs\n",
      "Batch 3 has 10 MOFs\n",
      "--------------------------------------------------\n",
      "Batch 1 Finished.|**| Batch 2 Finished.|**| Batch 3 Finished.                                                                                                                                                                             \n",
      "Validating property : \"has_oms\"\n",
      "Validated 100 %                                                                                                           \n",
      "\n",
      "Analysis Finished. Time required:6.83 sec\n",
      "--------------------------------------------------\n"
     ]
    }
   ],
   "source": [
    "a_mof_collection.analyse_mofs(num_batches=3, overwrite=True)"
   ]
  },
  {
   "cell_type": "markdown",
   "metadata": {},
   "source": [
    "## Summarizing Results\n",
    "\n",
    "We can get a table that summarizes the findings usingt he __summarize_results()__ function"
   ]
  },
  {
   "cell_type": "code",
   "execution_count": 19,
   "metadata": {},
   "outputs": [
    {
     "name": "stdout",
     "output_type": "stream",
     "text": [
      "\n",
      "Validating property : \"has_oms\"\n",
      "Validated 100 %                                                                                                           \n",
      "--------------------------------------------------\n",
      "Number of total MOFs: 50\n",
      "Number of total MOFs with open metal sites: 37\n",
      "Number of total unique sites: 74\n",
      "Number of total unique open metal sites: 45\n",
      "--------------------------------------------------\n",
      "Summary Table\n",
      "\n",
      "    MOFs  MOFs_with_OMS  Metal Sites  OMS MOFs_with_OMS(%)   OMS (%)\n",
      "Co    11              6           18    9          54.55 %   50.00 %\n",
      "Cd     9              4           13    4          44.44 %   30.77 %\n",
      "Ni     5              5            6    6         100.00 %  100.00 %\n",
      "Gd     3              2            3    2          66.67 %   66.67 %\n",
      "Zn     3              2            4    3          66.67 %   75.00 %\n",
      "Er     3              2            4    2          66.67 %   50.00 %\n",
      "Cu     3              3            3    3         100.00 %  100.00 %\n",
      "Fe     2              0            2    0           0.00 %    0.00 %\n",
      "Ho     2              2            2    2         100.00 %  100.00 %\n",
      "Mn     2              2            3    2         100.00 %   66.67 %\n",
      "Nd     2              2            2    2         100.00 %  100.00 %\n",
      "V      2              1            3    1          50.00 %   33.33 %\n",
      "Eu     1              1            1    1         100.00 %  100.00 %\n",
      "Ga     1              1            2    1         100.00 %   50.00 %\n",
      "Dy     1              1            1    1         100.00 %  100.00 %\n",
      "Pr     1              1            1    1         100.00 %  100.00 %\n",
      "Pt     1              1            1    1         100.00 %  100.00 %\n",
      "Th     1              0            1    0           0.00 %    0.00 %\n",
      "U      1              1            1    1         100.00 %  100.00 %\n",
      "Yb     1              1            1    1         100.00 %  100.00 %\n",
      "Mg     1              1            2    2         100.00 %  100.00 %\n"
     ]
    }
   ],
   "source": [
    "a_mof_collection.summarize_results()"
   ]
  },
  {
   "cell_type": "markdown",
   "metadata": {},
   "source": [
    "### Filter collection using results\n",
    "\n",
    "Finally, we can use the filter function to isolate, for example, MOFs that have Co metal sites and that contain open metal sites. We can also copy the cif files and result files for this subset to new locations by providing values for the **new_collection_folder** and **new_analysis_folder** keywords."
   ]
  },
  {
   "cell_type": "code",
   "execution_count": 20,
   "metadata": {},
   "outputs": [
    {
     "name": "stdout",
     "output_type": "stream",
     "text": [
      "--------------------------------------------------\n",
      "\n",
      "Validating properties : \"metal_species, has_oms\"\n",
      "Validated 100 %                                                                                                           \n",
      "--------------------------------------------------\n",
      "Filtering collection.\n",
      "\n",
      "6 MOFs were matched using the provided filter.\n",
      "Returning a new collection using the matched MOFs.\n",
      "Loading CIF files...\n",
      "100.0 %\n",
      "All Done.\n",
      "--------------------------------------------------\n",
      "--------------------------------------------------\n",
      "The cif files for this collection will be copied to the specified folder:\n",
      "\"/run/media/emmhald/tbDrive/build_msi/open_metal_detector/examples/co_oms\"\n",
      "The cif paths will be updated.\n",
      "--------------------------------------------------\n",
      "--------------------------------------------------\n",
      "The result files for this collection will be copied to the specified folder:\n",
      "/run/media/emmhald/tbDrive/build_msi/open_metal_detector/examples/co_oms_analysis\n",
      "The analysis folder will be updated.\n",
      "\n",
      "Validating property : \"has_oms\"\n",
      "Validated 100 %                                                                                                           \n",
      "--------------------------------------------------\n",
      "--------------------------------------------------\n",
      "This collection holds information for 6 MOFs.\n",
      "Analysis folder is: /run/media/emmhald/tbDrive/build_msi/open_metal_detector/examples/co_oms_analysis\n",
      "\n",
      "List of cif files in collection:\n",
      "\n",
      "/run/media/emmhald/tbDrive/build_msi/open_metal_detector/examples/co_oms/RENWEM01_clean.cif\n",
      "/run/media/emmhald/tbDrive/build_msi/open_metal_detector/examples/co_oms/RENWEM_clean.cif\n",
      "/run/media/emmhald/tbDrive/build_msi/open_metal_detector/examples/co_oms/YUCNEQ_clean.cif\n",
      "/run/media/emmhald/tbDrive/build_msi/open_metal_detector/examples/co_oms/IGAHED01_clean.cif\n",
      "/run/media/emmhald/tbDrive/build_msi/open_metal_detector/examples/co_oms/IGAHED02_clean.cif\n",
      "/run/media/emmhald/tbDrive/build_msi/open_metal_detector/examples/co_oms/IGAHED_clean.cif\n",
      "--------------------------------------------------\n"
     ]
    }
   ],
   "source": [
    "co_oms = a_mof_collection.filter_collection(using_filter={\"metal_species\":[\"Co\"], \"has_oms\":True},\n",
    "                                            new_collection_folder='co_oms',\n",
    "                                            new_analysis_folder='co_oms_analysis')\n",
    "\n",
    "print(co_oms)"
   ]
  }
 ],
 "metadata": {
  "kernelspec": {
   "display_name": "OMS_py3.6",
   "language": "python",
   "name": "oms_py3.6"
  },
  "language_info": {
   "codemirror_mode": {
    "name": "ipython",
    "version": 3
   },
   "file_extension": ".py",
   "mimetype": "text/x-python",
   "name": "python",
   "nbconvert_exporter": "python",
   "pygments_lexer": "ipython3",
   "version": "3.6.3"
  }
 },
 "nbformat": 4,
 "nbformat_minor": 2
}
