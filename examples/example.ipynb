{
 "cells": [
  {
   "cell_type": "code",
   "execution_count": 4,
   "metadata": {
    "tags": []
   },
   "outputs": [],
   "source": [
    "import sys\n",
    "import warnings\n",
    "import os\n",
    "from omsdetector import MofCollection \n",
    "from pymatgen.core import Structure\n",
    "from pymatgen.io.vasp import Poscar\n",
    "from pymatgen.io.cif import CifWriter\n",
    "from glob import glob"
   ]
  },
  {
   "cell_type": "markdown",
   "metadata": {},
   "source": [
    "## Creating a MOF Collection\n",
    "### Loading from path names.\n",
    "\n",
    "We can build a **MofCollection** from a list of paths to MOF CIF files. We can also specify the **analysis_folder** where all the results of the analyses perfromed on this MOF collection will be stored. The default value is analysis_folder = 'analysis_folder'."
   ]
  },
  {
   "cell_type": "code",
   "execution_count": 3,
   "metadata": {},
   "outputs": [],
   "source": [
    "# # POSCAR to cif\n",
    "# path2test='/Users/gjonesresearch/FeO_Local/Zeolite/test_zeolites'\n",
    "# structure = Structure.from_file(os.path.join(path2test,'POSCAR'))\n",
    "# structure.to(filename=os.path.join(path2test,'zsmfixed.cif'))"
   ]
  },
  {
   "cell_type": "code",
   "execution_count": 15,
   "metadata": {},
   "outputs": [
    {
     "name": "stdout",
     "output_type": "stream",
     "text": [
      "Loading CIF files...\n",
      "100.0 %\n",
      "All Done.\n",
      "There are 255 MOFs in the collection.\n"
     ]
    }
   ],
   "source": [
    "path_list = glob('/Users/gjonesresearch/FeO_Local/Zeolite/cifs/*.cif')\n",
    "\n",
    "# path_list = ['cif_files_example/HKUST-1_ASR_FIQCEN_clean.cif', \n",
    "             # 'cif_files_example/MgMOF-74_ASR_RAVVUH_clean.cif', \n",
    "             # 'cif_files_example/MOF-5_ASR_MIBQAR_clean.cif']\n",
    "\n",
    "a_mof_collection = MofCollection(path_list = path_list, analysis_folder=\"analysis_folder_example\")\n",
    "\n",
    "print(\"There are {} MOFs in the collection.\".format(len(a_mof_collection)))"
   ]
  },
  {
   "cell_type": "code",
   "execution_count": 16,
   "metadata": {},
   "outputs": [
    {
     "name": "stdout",
     "output_type": "stream",
     "text": [
      "--------------------------------------------------\n",
      "This collection holds information for 255 MOFs.\n",
      "Analysis folder is: /Users/gjonesresearch/open_metal_detector/examples/analysis_folder_example\n",
      "\n",
      "List of cif files in collection:\n",
      "\n",
      "/Users/gjonesresearch/FeO_Local/Zeolite/cifs/MWW.cif\n",
      "/Users/gjonesresearch/FeO_Local/Zeolite/cifs/JSN.cif\n",
      "/Users/gjonesresearch/FeO_Local/Zeolite/cifs/ANO.cif\n",
      "/Users/gjonesresearch/FeO_Local/Zeolite/cifs/ATV.cif\n",
      "/Users/gjonesresearch/FeO_Local/Zeolite/cifs/MAZ.cif\n",
      "/Users/gjonesresearch/FeO_Local/Zeolite/cifs/IWS.cif\n",
      "/Users/gjonesresearch/FeO_Local/Zeolite/cifs/ITH.cif\n",
      "/Users/gjonesresearch/FeO_Local/Zeolite/cifs/PUN.cif\n",
      "/Users/gjonesresearch/FeO_Local/Zeolite/cifs/ETR.cif\n",
      "/Users/gjonesresearch/FeO_Local/Zeolite/cifs/RTH.cif\n",
      "/Users/gjonesresearch/FeO_Local/Zeolite/cifs/GME.cif\n",
      "/Users/gjonesresearch/FeO_Local/Zeolite/cifs/RWR.cif\n",
      "/Users/gjonesresearch/FeO_Local/Zeolite/cifs/EON.cif\n",
      "/Users/gjonesresearch/FeO_Local/Zeolite/cifs/IWR.cif\n",
      "/Users/gjonesresearch/FeO_Local/Zeolite/cifs/SEW.cif\n",
      "/Users/gjonesresearch/FeO_Local/Zeolite/cifs/OBW.cif\n",
      "/Users/gjonesresearch/FeO_Local/Zeolite/cifs/HEU.cif\n",
      "/Users/gjonesresearch/FeO_Local/Zeolite/cifs/SFN.cif\n",
      "/Users/gjonesresearch/FeO_Local/Zeolite/cifs/DFT.cif\n",
      "/Users/gjonesresearch/FeO_Local/Zeolite/cifs/MOR.cif\n",
      "/Users/gjonesresearch/FeO_Local/Zeolite/cifs/SIV.cif\n",
      "/Users/gjonesresearch/FeO_Local/Zeolite/cifs/NSI.cif\n",
      "/Users/gjonesresearch/FeO_Local/Zeolite/cifs/BPH.cif\n",
      "/Users/gjonesresearch/FeO_Local/Zeolite/cifs/USI.cif\n",
      "/Users/gjonesresearch/FeO_Local/Zeolite/cifs/GON.cif\n",
      "/Users/gjonesresearch/FeO_Local/Zeolite/cifs/NES.cif\n",
      "/Users/gjonesresearch/FeO_Local/Zeolite/cifs/GOO.cif\n",
      "/Users/gjonesresearch/FeO_Local/Zeolite/cifs/*UOE.cif\n",
      "/Users/gjonesresearch/FeO_Local/Zeolite/cifs/BIK.cif\n",
      "/Users/gjonesresearch/FeO_Local/Zeolite/cifs/UFI.cif\n",
      "/Users/gjonesresearch/FeO_Local/Zeolite/cifs/AWO.cif\n",
      "/Users/gjonesresearch/FeO_Local/Zeolite/cifs/ATT.cif\n",
      "/Users/gjonesresearch/FeO_Local/Zeolite/cifs/SFO.cif\n",
      "/Users/gjonesresearch/FeO_Local/Zeolite/cifs/SSY.cif\n",
      "/Users/gjonesresearch/FeO_Local/Zeolite/cifs/MTN.cif\n",
      "/Users/gjonesresearch/FeO_Local/Zeolite/cifs/MWF.cif\n",
      "/Users/gjonesresearch/FeO_Local/Zeolite/cifs/CAS.cif\n",
      "/Users/gjonesresearch/FeO_Local/Zeolite/cifs/FRA.cif\n",
      "/Users/gjonesresearch/FeO_Local/Zeolite/cifs/-SYT.cif\n",
      "/Users/gjonesresearch/FeO_Local/Zeolite/cifs/EAB.cif\n",
      "/Users/gjonesresearch/FeO_Local/Zeolite/cifs/PWW.cif\n",
      "/Users/gjonesresearch/FeO_Local/Zeolite/cifs/PCR.cif\n",
      "/Users/gjonesresearch/FeO_Local/Zeolite/cifs/BRE.cif\n",
      "/Users/gjonesresearch/FeO_Local/Zeolite/cifs/BSV.cif\n",
      "/Users/gjonesresearch/FeO_Local/Zeolite/cifs/EWO.cif\n",
      "/Users/gjonesresearch/FeO_Local/Zeolite/cifs/CON.cif\n",
      "/Users/gjonesresearch/FeO_Local/Zeolite/cifs/OWE.cif\n",
      "/Users/gjonesresearch/FeO_Local/Zeolite/cifs/ACO.cif\n",
      "/Users/gjonesresearch/FeO_Local/Zeolite/cifs/ZON.cif\n",
      "/Users/gjonesresearch/FeO_Local/Zeolite/cifs/SFH.cif\n",
      "/Users/gjonesresearch/FeO_Local/Zeolite/cifs/AVL.cif\n",
      "/Users/gjonesresearch/FeO_Local/Zeolite/cifs/ATS.cif\n",
      "/Users/gjonesresearch/FeO_Local/Zeolite/cifs/NPT.cif\n",
      "/Users/gjonesresearch/FeO_Local/Zeolite/cifs/-IFU.cif\n",
      "/Users/gjonesresearch/FeO_Local/Zeolite/cifs/IWV.cif\n",
      "/Users/gjonesresearch/FeO_Local/Zeolite/cifs/PTO.cif\n",
      "/Users/gjonesresearch/FeO_Local/Zeolite/cifs/POR.cif\n",
      "/Users/gjonesresearch/FeO_Local/Zeolite/cifs/POS.cif\n",
      "/Users/gjonesresearch/FeO_Local/Zeolite/cifs/ETV.cif\n",
      "/Users/gjonesresearch/FeO_Local/Zeolite/cifs/EMT.cif\n",
      "/Users/gjonesresearch/FeO_Local/Zeolite/cifs/LEV.cif\n",
      "/Users/gjonesresearch/FeO_Local/Zeolite/cifs/PTY.cif\n",
      "/Users/gjonesresearch/FeO_Local/Zeolite/cifs/IWW.cif\n",
      "/Users/gjonesresearch/FeO_Local/Zeolite/cifs/-IFT.cif\n",
      "/Users/gjonesresearch/FeO_Local/Zeolite/cifs/*STO.cif\n",
      "/Users/gjonesresearch/FeO_Local/Zeolite/cifs/TUN.cif\n",
      "/Users/gjonesresearch/FeO_Local/Zeolite/cifs/JRY.cif\n",
      "/Users/gjonesresearch/FeO_Local/Zeolite/cifs/FAR.cif\n",
      "/Users/gjonesresearch/FeO_Local/Zeolite/cifs/AFG.cif\n",
      "/Users/gjonesresearch/FeO_Local/Zeolite/cifs/OKO.cif\n",
      "/Users/gjonesresearch/FeO_Local/Zeolite/cifs/OSI.cif\n",
      "/Users/gjonesresearch/FeO_Local/Zeolite/cifs/SOV.cif\n",
      "/Users/gjonesresearch/FeO_Local/Zeolite/cifs/IFY.cif\n",
      "/Users/gjonesresearch/FeO_Local/Zeolite/cifs/-ITV.cif\n",
      "/Users/gjonesresearch/FeO_Local/Zeolite/cifs/IFO.cif\n",
      "/Users/gjonesresearch/FeO_Local/Zeolite/cifs/RSN.cif\n",
      "/Users/gjonesresearch/FeO_Local/Zeolite/cifs/UTL.cif\n",
      "/Users/gjonesresearch/FeO_Local/Zeolite/cifs/LTN.cif\n",
      "/Users/gjonesresearch/FeO_Local/Zeolite/cifs/LOS.cif\n",
      "/Users/gjonesresearch/FeO_Local/Zeolite/cifs/MEP.cif\n",
      "/Users/gjonesresearch/FeO_Local/Zeolite/cifs/TER.cif\n",
      "/Users/gjonesresearch/FeO_Local/Zeolite/cifs/AFS.cif\n",
      "/Users/gjonesresearch/FeO_Local/Zeolite/cifs/VFI.cif\n",
      "/Users/gjonesresearch/FeO_Local/Zeolite/cifs/-CLO.cif\n",
      "/Users/gjonesresearch/FeO_Local/Zeolite/cifs/SBE.cif\n",
      "/Users/gjonesresearch/FeO_Local/Zeolite/cifs/MER.cif\n",
      "/Users/gjonesresearch/FeO_Local/Zeolite/cifs/MFI.cif\n",
      "/Users/gjonesresearch/FeO_Local/Zeolite/cifs/-EWT.cif\n",
      "/Users/gjonesresearch/FeO_Local/Zeolite/cifs/YUG.cif\n",
      "/Users/gjonesresearch/FeO_Local/Zeolite/cifs/UOS.cif\n",
      "/Users/gjonesresearch/FeO_Local/Zeolite/cifs/LTL.cif\n",
      "/Users/gjonesresearch/FeO_Local/Zeolite/cifs/ESV.cif\n",
      "/Users/gjonesresearch/FeO_Local/Zeolite/cifs/-WEN.cif\n",
      "/Users/gjonesresearch/FeO_Local/Zeolite/cifs/*-SVY.cif\n",
      "/Users/gjonesresearch/FeO_Local/Zeolite/cifs/EDI.cif\n",
      "/Users/gjonesresearch/FeO_Local/Zeolite/cifs/DON.cif\n",
      "/Users/gjonesresearch/FeO_Local/Zeolite/cifs/CDO.cif\n",
      "/Users/gjonesresearch/FeO_Local/Zeolite/cifs/SBS.cif\n",
      "/Users/gjonesresearch/FeO_Local/Zeolite/cifs/SVV.cif\n",
      "/Users/gjonesresearch/FeO_Local/Zeolite/cifs/STI.cif\n",
      "/Users/gjonesresearch/FeO_Local/Zeolite/cifs/AFR.cif\n",
      "/Users/gjonesresearch/FeO_Local/Zeolite/cifs/AEI.cif\n",
      "/Users/gjonesresearch/FeO_Local/Zeolite/cifs/AFV.cif\n",
      "/Users/gjonesresearch/FeO_Local/Zeolite/cifs/OSO.cif\n",
      "/Users/gjonesresearch/FeO_Local/Zeolite/cifs/EEI.cif\n",
      "/Users/gjonesresearch/FeO_Local/Zeolite/cifs/UOV.cif\n",
      "/Users/gjonesresearch/FeO_Local/Zeolite/cifs/EPI.cif\n",
      "/Users/gjonesresearch/FeO_Local/Zeolite/cifs/-PAR.cif\n",
      "/Users/gjonesresearch/FeO_Local/Zeolite/cifs/BOZ.cif\n",
      "/Users/gjonesresearch/FeO_Local/Zeolite/cifs/*PCS.cif\n",
      "/Users/gjonesresearch/FeO_Local/Zeolite/cifs/ASV.cif\n",
      "/Users/gjonesresearch/FeO_Local/Zeolite/cifs/SOF.cif\n",
      "/Users/gjonesresearch/FeO_Local/Zeolite/cifs/CGF.cif\n",
      "/Users/gjonesresearch/FeO_Local/Zeolite/cifs/FAU.cif\n",
      "/Users/gjonesresearch/FeO_Local/Zeolite/cifs/AEL.cif\n",
      "/Users/gjonesresearch/FeO_Local/Zeolite/cifs/SZR.cif\n",
      "/Users/gjonesresearch/FeO_Local/Zeolite/cifs/AEN.cif\n",
      "/Users/gjonesresearch/FeO_Local/Zeolite/cifs/VET.cif\n",
      "/Users/gjonesresearch/FeO_Local/Zeolite/cifs/CSV.cif\n",
      "/Users/gjonesresearch/FeO_Local/Zeolite/cifs/CGS.cif\n",
      "/Users/gjonesresearch/FeO_Local/Zeolite/cifs/SAO.cif\n",
      "/Users/gjonesresearch/FeO_Local/Zeolite/cifs/SBT.cif\n",
      "/Users/gjonesresearch/FeO_Local/Zeolite/cifs/SOD.cif\n",
      "/Users/gjonesresearch/FeO_Local/Zeolite/cifs/AST.cif\n",
      "/Users/gjonesresearch/FeO_Local/Zeolite/cifs/SOS.cif\n",
      "/Users/gjonesresearch/FeO_Local/Zeolite/cifs/IRN.cif\n",
      "/Users/gjonesresearch/FeO_Local/Zeolite/cifs/KFI.cif\n",
      "/Users/gjonesresearch/FeO_Local/Zeolite/cifs/IHW.cif\n",
      "/Users/gjonesresearch/FeO_Local/Zeolite/cifs/LTJ.cif\n",
      "/Users/gjonesresearch/FeO_Local/Zeolite/cifs/-RON.cif\n",
      "/Users/gjonesresearch/FeO_Local/Zeolite/cifs/RRO.cif\n",
      "/Users/gjonesresearch/FeO_Local/Zeolite/cifs/PSI.cif\n",
      "/Users/gjonesresearch/FeO_Local/Zeolite/cifs/LOV.cif\n",
      "/Users/gjonesresearch/FeO_Local/Zeolite/cifs/DOH.cif\n",
      "/Users/gjonesresearch/FeO_Local/Zeolite/cifs/SOR.cif\n",
      "/Users/gjonesresearch/FeO_Local/Zeolite/cifs/JBW.cif\n",
      "/Users/gjonesresearch/FeO_Local/Zeolite/cifs/JNT.cif\n",
      "/Users/gjonesresearch/FeO_Local/Zeolite/cifs/DAC.cif\n",
      "/Users/gjonesresearch/FeO_Local/Zeolite/cifs/AFT.cif\n",
      "/Users/gjonesresearch/FeO_Local/Zeolite/cifs/MSO.cif\n",
      "/Users/gjonesresearch/FeO_Local/Zeolite/cifs/AFN.cif\n",
      "/Users/gjonesresearch/FeO_Local/Zeolite/cifs/AFY.cif\n",
      "/Users/gjonesresearch/FeO_Local/Zeolite/cifs/SWY.cif\n",
      "/Users/gjonesresearch/FeO_Local/Zeolite/cifs/SAT.cif\n",
      "/Users/gjonesresearch/FeO_Local/Zeolite/cifs/APC.cif\n",
      "/Users/gjonesresearch/FeO_Local/Zeolite/cifs/LTF.cif\n",
      "/Users/gjonesresearch/FeO_Local/Zeolite/cifs/NON.cif\n",
      "/Users/gjonesresearch/FeO_Local/Zeolite/cifs/SBN.cif\n",
      "/Users/gjonesresearch/FeO_Local/Zeolite/cifs/STT.cif\n",
      "/Users/gjonesresearch/FeO_Local/Zeolite/cifs/AFX.cif\n",
      "/Users/gjonesresearch/FeO_Local/Zeolite/cifs/AET.cif\n",
      "/Users/gjonesresearch/FeO_Local/Zeolite/cifs/AFO.cif\n",
      "/Users/gjonesresearch/FeO_Local/Zeolite/cifs/TSC.cif\n",
      "/Users/gjonesresearch/FeO_Local/Zeolite/cifs/-SSO.cif\n",
      "/Users/gjonesresearch/FeO_Local/Zeolite/cifs/VSV.cif\n",
      "/Users/gjonesresearch/FeO_Local/Zeolite/cifs/MEL.cif\n",
      "/Users/gjonesresearch/FeO_Local/Zeolite/cifs/BCT.cif\n",
      "/Users/gjonesresearch/FeO_Local/Zeolite/cifs/RHO.cif\n",
      "/Users/gjonesresearch/FeO_Local/Zeolite/cifs/UOZ.cif\n",
      "/Users/gjonesresearch/FeO_Local/Zeolite/cifs/GIS.cif\n",
      "/Users/gjonesresearch/FeO_Local/Zeolite/cifs/IFR.cif\n",
      "/Users/gjonesresearch/FeO_Local/Zeolite/cifs/*BEA.cif\n",
      "/Users/gjonesresearch/FeO_Local/Zeolite/cifs/*CTH.cif\n",
      "/Users/gjonesresearch/FeO_Local/Zeolite/cifs/SAV.cif\n",
      "/Users/gjonesresearch/FeO_Local/Zeolite/cifs/STW.cif\n",
      "/Users/gjonesresearch/FeO_Local/Zeolite/cifs/AHT.cif\n",
      "/Users/gjonesresearch/FeO_Local/Zeolite/cifs/CHA.cif\n",
      "/Users/gjonesresearch/FeO_Local/Zeolite/cifs/MEI.cif\n",
      "/Users/gjonesresearch/FeO_Local/Zeolite/cifs/UWY.cif\n",
      "/Users/gjonesresearch/FeO_Local/Zeolite/cifs/NAT.cif\n",
      "/Users/gjonesresearch/FeO_Local/Zeolite/cifs/ERI.cif\n",
      "/Users/gjonesresearch/FeO_Local/Zeolite/cifs/PHI.cif\n",
      "/Users/gjonesresearch/FeO_Local/Zeolite/cifs/NAB.cif\n",
      "/Users/gjonesresearch/FeO_Local/Zeolite/cifs/IFW.cif\n",
      "/Users/gjonesresearch/FeO_Local/Zeolite/cifs/LTA.cif\n",
      "/Users/gjonesresearch/FeO_Local/Zeolite/cifs/IRR.cif\n",
      "/Users/gjonesresearch/FeO_Local/Zeolite/cifs/ISV.cif\n",
      "/Users/gjonesresearch/FeO_Local/Zeolite/cifs/APD.cif\n",
      "/Users/gjonesresearch/FeO_Local/Zeolite/cifs/MFS.cif\n",
      "/Users/gjonesresearch/FeO_Local/Zeolite/cifs/JOZ.cif\n",
      "/Users/gjonesresearch/FeO_Local/Zeolite/cifs/SAS.cif\n",
      "/Users/gjonesresearch/FeO_Local/Zeolite/cifs/OFF.cif\n",
      "/Users/gjonesresearch/FeO_Local/Zeolite/cifs/AFI.cif\n",
      "/Users/gjonesresearch/FeO_Local/Zeolite/cifs/MSE.cif\n",
      "/Users/gjonesresearch/FeO_Local/Zeolite/cifs/MRT.cif\n",
      "/Users/gjonesresearch/FeO_Local/Zeolite/cifs/*SFV.cif\n",
      "/Users/gjonesresearch/FeO_Local/Zeolite/cifs/SAF.cif\n",
      "/Users/gjonesresearch/FeO_Local/Zeolite/cifs/CFI.cif\n",
      "/Users/gjonesresearch/FeO_Local/Zeolite/cifs/THO.cif\n",
      "/Users/gjonesresearch/FeO_Local/Zeolite/cifs/BOF.cif\n",
      "/Users/gjonesresearch/FeO_Local/Zeolite/cifs/LAU.cif\n",
      "/Users/gjonesresearch/FeO_Local/Zeolite/cifs/-LIT.cif\n",
      "/Users/gjonesresearch/FeO_Local/Zeolite/cifs/GIU.cif\n",
      "/Users/gjonesresearch/FeO_Local/Zeolite/cifs/BOG.cif\n",
      "/Users/gjonesresearch/FeO_Local/Zeolite/cifs/STF.cif\n",
      "/Users/gjonesresearch/FeO_Local/Zeolite/cifs/*-ITN.cif\n",
      "/Users/gjonesresearch/FeO_Local/Zeolite/cifs/SFS.cif\n",
      "/Users/gjonesresearch/FeO_Local/Zeolite/cifs/LIO.cif\n",
      "/Users/gjonesresearch/FeO_Local/Zeolite/cifs/BEC.cif\n",
      "/Users/gjonesresearch/FeO_Local/Zeolite/cifs/NPO.cif\n",
      "/Users/gjonesresearch/FeO_Local/Zeolite/cifs/PTT.cif\n",
      "/Users/gjonesresearch/FeO_Local/Zeolite/cifs/PWO.cif\n",
      "/Users/gjonesresearch/FeO_Local/Zeolite/cifs/PAU.cif\n",
      "/Users/gjonesresearch/FeO_Local/Zeolite/cifs/ETL.cif\n",
      "/Users/gjonesresearch/FeO_Local/Zeolite/cifs/PWN.cif\n",
      "/Users/gjonesresearch/FeO_Local/Zeolite/cifs/ITW.cif\n",
      "/Users/gjonesresearch/FeO_Local/Zeolite/cifs/MAR.cif\n",
      "/Users/gjonesresearch/FeO_Local/Zeolite/cifs/TOL.cif\n",
      "/Users/gjonesresearch/FeO_Local/Zeolite/cifs/MON.cif\n",
      "/Users/gjonesresearch/FeO_Local/Zeolite/cifs/SFE.cif\n",
      "/Users/gjonesresearch/FeO_Local/Zeolite/cifs/MTF.cif\n",
      "/Users/gjonesresearch/FeO_Local/Zeolite/cifs/MVY.cif\n",
      "/Users/gjonesresearch/FeO_Local/Zeolite/cifs/SSF.cif\n",
      "/Users/gjonesresearch/FeO_Local/Zeolite/cifs/SGT.cif\n",
      "/Users/gjonesresearch/FeO_Local/Zeolite/cifs/SFG.cif\n",
      "/Users/gjonesresearch/FeO_Local/Zeolite/cifs/TON.cif\n",
      "/Users/gjonesresearch/FeO_Local/Zeolite/cifs/*MRE.cif\n",
      "/Users/gjonesresearch/FeO_Local/Zeolite/cifs/RWY.cif\n",
      "/Users/gjonesresearch/FeO_Local/Zeolite/cifs/ITT.cif\n",
      "/Users/gjonesresearch/FeO_Local/Zeolite/cifs/SFF.cif\n",
      "/Users/gjonesresearch/FeO_Local/Zeolite/cifs/MOZ.cif\n",
      "/Users/gjonesresearch/FeO_Local/Zeolite/cifs/VNI.cif\n",
      "/Users/gjonesresearch/FeO_Local/Zeolite/cifs/JSR.cif\n",
      "/Users/gjonesresearch/FeO_Local/Zeolite/cifs/FER.cif\n",
      "/Users/gjonesresearch/FeO_Local/Zeolite/cifs/MTT.cif\n",
      "/Users/gjonesresearch/FeO_Local/Zeolite/cifs/CZP.cif\n",
      "/Users/gjonesresearch/FeO_Local/Zeolite/cifs/-SVR.cif\n",
      "/Users/gjonesresearch/FeO_Local/Zeolite/cifs/DFO.cif\n",
      "/Users/gjonesresearch/FeO_Local/Zeolite/cifs/ATN.cif\n",
      "/Users/gjonesresearch/FeO_Local/Zeolite/cifs/ITG.cif\n",
      "/Users/gjonesresearch/FeO_Local/Zeolite/cifs/YFI.cif\n",
      "/Users/gjonesresearch/FeO_Local/Zeolite/cifs/RUT.cif\n",
      "/Users/gjonesresearch/FeO_Local/Zeolite/cifs/EUO.cif\n",
      "/Users/gjonesresearch/FeO_Local/Zeolite/cifs/PON.cif\n",
      "/Users/gjonesresearch/FeO_Local/Zeolite/cifs/UEI.cif\n",
      "/Users/gjonesresearch/FeO_Local/Zeolite/cifs/ATO.cif\n",
      "/Users/gjonesresearch/FeO_Local/Zeolite/cifs/ANA.cif\n",
      "/Users/gjonesresearch/FeO_Local/Zeolite/cifs/-CHI.cif\n",
      "/Users/gjonesresearch/FeO_Local/Zeolite/cifs/JSW.cif\n",
      "/Users/gjonesresearch/FeO_Local/Zeolite/cifs/MTW.cif\n",
      "/Users/gjonesresearch/FeO_Local/Zeolite/cifs/ABW.cif\n",
      "/Users/gjonesresearch/FeO_Local/Zeolite/cifs/CAN.cif\n",
      "/Users/gjonesresearch/FeO_Local/Zeolite/cifs/AVE.cif\n",
      "/Users/gjonesresearch/FeO_Local/Zeolite/cifs/IMF.cif\n",
      "/Users/gjonesresearch/FeO_Local/Zeolite/cifs/WEI.cif\n",
      "/Users/gjonesresearch/FeO_Local/Zeolite/cifs/-IRY.cif\n",
      "/Users/gjonesresearch/FeO_Local/Zeolite/cifs/EWS.cif\n",
      "/Users/gjonesresearch/FeO_Local/Zeolite/cifs/RTE.cif\n",
      "/Users/gjonesresearch/FeO_Local/Zeolite/cifs/EZT.cif\n",
      "/Users/gjonesresearch/FeO_Local/Zeolite/cifs/ITE.cif\n",
      "/Users/gjonesresearch/FeO_Local/Zeolite/cifs/ITR.cif\n",
      "/Users/gjonesresearch/FeO_Local/Zeolite/cifs/AWW.cif\n",
      "/Users/gjonesresearch/FeO_Local/Zeolite/cifs/DDR.cif\n",
      "/Users/gjonesresearch/FeO_Local/Zeolite/cifs/SFW.cif\n",
      "/Users/gjonesresearch/FeO_Local/Zeolite/cifs/JST.cif\n",
      "--------------------------------------------------\n"
     ]
    }
   ],
   "source": [
    "print(a_mof_collection)"
   ]
  },
  {
   "cell_type": "markdown",
   "metadata": {},
   "source": [
    "### Loading CIFs from folder.\n",
    "\n",
    "It is often conveniet to load all the CIF files located in a specific folder. \n",
    "\n",
    "We can do this by using the **from_folder()** method to create the MofCollection object."
   ]
  },
  {
   "cell_type": "code",
   "execution_count": 19,
   "metadata": {},
   "outputs": [
    {
     "name": "stdout",
     "output_type": "stream",
     "text": [
      "Loading CIF files...\n",
      "100.0 %\n",
      "All Done.\n",
      "There are 255 MOFs in the collection.\n"
     ]
    }
   ],
   "source": [
    "a_mof_collection = MofCollection.from_folder(collection_folder='/Users/gjonesresearch/FeO_Local/Zeolite/cifs/', analysis_folder=\"analysis_folder_example\")\n",
    "\n",
    "print(\"There are {} MOFs in the collection.\".format(len(a_mof_collection)))"
   ]
  },
  {
   "cell_type": "markdown",
   "metadata": {},
   "source": [
    "### Loading selected CIFs from folder.\n",
    "\n",
    "We might have a large number of CIFs in a folder but are only interested in examing a small subset of them. To accomplish this we can create a MofCollection from a folder as before but this time provide the additional argument __name_list__ which is a list of the names of MOFs we are interested in. \n",
    "\n",
    "For example:"
   ]
  },
  {
   "cell_type": "code",
   "execution_count": 21,
   "metadata": {},
   "outputs": [
    {
     "name": "stdout",
     "output_type": "stream",
     "text": [
      "Loading CIF files...\n",
      "100.0 %\n",
      "All Done.\n",
      "There are 255 MOFs in the collection.\n"
     ]
    }
   ],
   "source": [
    "a_mof_collection_name_list = MofCollection.from_folder(collection_folder='/Users/gjonesresearch/FeO_Local/Zeolite/cifs/', \n",
    "                                                       analysis_folder=\"analysis_folder_example\")\n",
    "\n",
    "print(\"There are {} MOFs in the collection.\".format(len(a_mof_collection_name_list)))"
   ]
  },
  {
   "cell_type": "markdown",
   "metadata": {},
   "source": [
    "## Filtering a Collection\n",
    "Before analyzing the MOFs in the collection we created we might want to filter the collection and keep only MOFs with certain characteristics, for example MOFs that contain certain metal atoms.\n",
    "\n",
    "We can do this using the **filter_collection()** method on the collection object. The CIF files that match the filter will be included to this collection. \n",
    "\n",
    "### Keep CIF files in original location\n",
    "\n",
    "By default the cif files will be still pointing to the original location. This might be useful if we want to analyze a subset of MOFs without copying over the files."
   ]
  },
  {
   "cell_type": "code",
   "execution_count": 25,
   "metadata": {},
   "outputs": [],
   "source": [
    "# help(a_mof_collection)"
   ]
  },
  {
   "cell_type": "code",
   "execution_count": 26,
   "metadata": {},
   "outputs": [
    {
     "name": "stdout",
     "output_type": "stream",
     "text": [
      "--------------------------------------------------\n",
      "\n",
      "Validating property : \"non_metal_species\"\n",
      "84.3 % SFG                                                                                                       \n",
      "An Exception occurred: specie\n",
      "Cannot load /Users/gjonesresearch/FeO_Local/Zeolite/cifs/SFG.cif\n",
      "\n",
      "Validated 100 %                                                                                                     \n",
      "--------------------------------------------------\n",
      "Filtering collection.\n",
      "\n",
      "245 MOFs were matched using the provided filter.\n",
      "Returning a new collection using the matched MOFs.\n",
      "Loading CIF files...\n",
      "100.0 %\n",
      "All Done.\n",
      "--------------------------------------------------\n"
     ]
    }
   ],
   "source": [
    "Fe_coll = a_mof_collection.filter_collection(using_filter={\"non_metal_species\":[\"O\"]})"
   ]
  },
  {
   "cell_type": "markdown",
   "metadata": {},
   "source": [
    "### Define a new CIF folder when filtering\n",
    "If the keyword **new_collection_folder** is set when filtering a collection the CIF files will be coppied to that folder and paths for the CIF files of the collection will be updated to point to the new location."
   ]
  },
  {
   "cell_type": "code",
   "execution_count": 27,
   "metadata": {},
   "outputs": [
    {
     "name": "stdout",
     "output_type": "stream",
     "text": [
      "--------------------------------------------------\n",
      "\n",
      "Validating property : \"non_metal_species\"\n",
      "Validated 100 %                                                                                                     \n",
      "--------------------------------------------------\n",
      "Filtering collection.\n",
      "\n",
      "245 MOFs were matched using the provided filter.\n",
      "Returning a new collection using the matched MOFs.\n",
      "Loading CIF files...\n",
      "100.0 %\n",
      "All Done.\n",
      "--------------------------------------------------\n",
      "--------------------------------------------------\n",
      "The cif files for this collection will be copied to the specified folder:\n",
      "\"/Users/gjonesresearch/open_metal_detector/examples/Oxygen_containing_Cifs\"\n",
      "The cif paths will be updated.\n",
      "--------------------------------------------------\n"
     ]
    }
   ],
   "source": [
    "Fe_coll = a_mof_collection.filter_collection(using_filter={\"non_metal_species\":[\"O\"]},new_collection_folder=\"Oxygen_containing_Cifs\")"
   ]
  },
  {
   "cell_type": "markdown",
   "metadata": {},
   "source": [
    "### Copy filtered collection later\n",
    "\n",
    "The third option is to create a filtered collection and explicitly copy the files at a later stage."
   ]
  },
  {
   "cell_type": "code",
   "execution_count": 28,
   "metadata": {},
   "outputs": [],
   "source": [
    "# Fe_coll = a_mof_collection.filter_collection(using_filter={\"metal_species\":[\"Fe\"], \"non_metal_species\":[\"O\"]})\n",
    "# print(Fe_coll)"
   ]
  },
  {
   "cell_type": "code",
   "execution_count": 29,
   "metadata": {},
   "outputs": [],
   "source": [
    "# Fe_coll.copy_cifs(target_folder=\"Fe_mofs\")\n",
    "# print(Fe_coll)"
   ]
  },
  {
   "cell_type": "markdown",
   "metadata": {},
   "source": [
    "The same operations can be performed for any results that might be present using the **new_analysis_folder** keyword  or the **copy_results()** function."
   ]
  },
  {
   "cell_type": "markdown",
   "metadata": {},
   "source": [
    "## Analyze a MOF Collection\n",
    "\n",
    "Once we have a MOF collection we can run the **analyse_mofs()** method on it, which will detect all the open metal sites (OMS) in the collection. "
   ]
  },
  {
   "cell_type": "code",
   "execution_count": 30,
   "metadata": {},
   "outputs": [
    {
     "name": "stdout",
     "output_type": "stream",
     "text": [
      "--------------------------------------------------\n",
      "Running OMS Analysis...\n",
      "--------------------------------------------------\n",
      "1 batch requested. \n",
      "Overwrite is set to False. \n",
      "Storing results in analysis_folder_example/oms_results. \n",
      "--------------------------------------------------\n",
      "\n",
      "Validating property : \"load_balancing_index\"\n",
      "Validated 100 %                                                                                                     \n",
      "--------------------------------------------------\n",
      "Checking if results for any of the MOFs exist...\n",
      "Will not skip any MOFs\n",
      "--------------------------------------------------\n",
      "Batch 1 has 255 MOFs\n",
      "--------------------------------------------------\n",
      "Batch 1 100.00 % : Analysing MWF                                                                                                     \n",
      "An Exception occurred: specie\n",
      "Cannot load /Users/gjonesresearch/FeO_Local/Zeolite/cifs/*UOE.cif\n",
      "\n",
      "\n",
      "An Exception occurred: specie\n",
      "Cannot load /Users/gjonesresearch/FeO_Local/Zeolite/cifs/-SYT.cif\n",
      "\n",
      "\n",
      "An Exception occurred: specie\n",
      "Cannot load /Users/gjonesresearch/FeO_Local/Zeolite/cifs/EWO.cif\n",
      "\n",
      "\n",
      "An Exception occurred: specie\n",
      "Cannot load /Users/gjonesresearch/FeO_Local/Zeolite/cifs/SFH.cif\n",
      "\n",
      "\n",
      "An Exception occurred: specie\n",
      "Cannot load /Users/gjonesresearch/FeO_Local/Zeolite/cifs/ATS.cif\n",
      "\n",
      "\n",
      "An Exception occurred: specie\n",
      "Cannot load /Users/gjonesresearch/FeO_Local/Zeolite/cifs/POR.cif\n",
      "\n",
      "\n",
      "An Exception occurred: specie\n",
      "Cannot load /Users/gjonesresearch/FeO_Local/Zeolite/cifs/PTY.cif\n",
      "\n",
      "\n",
      "An Exception occurred: specie\n",
      "Cannot load /Users/gjonesresearch/FeO_Local/Zeolite/cifs/IFW.cif\n",
      "\n",
      "\n",
      "An Exception occurred: specie\n",
      "Cannot load /Users/gjonesresearch/FeO_Local/Zeolite/cifs/SFS.cif\n",
      "\n",
      "\n",
      "An Exception occurred: specie\n",
      "Cannot load /Users/gjonesresearch/FeO_Local/Zeolite/cifs/SFG.cif\n",
      "\n"
     ]
    },
    {
     "name": "stderr",
     "output_type": "stream",
     "text": [
      "/Users/gjonesresearch/miniconda3/envs/DevPIs/lib/python3.8/site-packages/pymatgen/io/cif.py:1160: UserWarning: Issues encountered while parsing CIF: Some fractional coordinates rounded to ideal values to avoid issues with finite precision.\n",
      "  warnings.warn(\"Issues encountered while parsing CIF: %s\" % \"\\n\".join(self.warnings))\n",
      "/Users/gjonesresearch/miniconda3/envs/DevPIs/lib/python3.8/site-packages/pymatgen/io/cif.py:747: UserWarning: No _symmetry_equiv_pos_as_xyz type key found. Defaulting to P1.\n",
      "  warnings.warn(msg)\n",
      "/Users/gjonesresearch/miniconda3/envs/DevPIs/lib/python3.8/site-packages/pymatgen/io/cif.py:1155: UserWarning: No structure parsed for 1 structure in CIF. Section of CIF file below.\n",
      "  warnings.warn(f\"No structure parsed for {i + 1} structure in CIF. Section of CIF file below.\")\n",
      "/Users/gjonesresearch/miniconda3/envs/DevPIs/lib/python3.8/site-packages/pymatgen/io/cif.py:1156: UserWarning: data_EMM37ASMADE_publ\n",
      "_pd_block_id   2018-01-19T10:58|EMM37ASMADE|allen_burton|Overall\n",
      "_audit_creation_method   'from EXP file using GSAS2CIF'\n",
      "_audit_creation_date   2018-01-19T10:58\n",
      "_audit_author_name   'allen burton'\n",
      "_audit_update_record\n",
      "'2018-01-19T10:58  Initial CIF as created by GSAS2CIF'\n",
      "_publ_contact_author_name   ?\n",
      "_publ_contact_author_address   ?\n",
      "_publ_contact_author_email   ?\n",
      "_publ_contact_author_fax   ?\n",
      "_publ_contact_author_phone   ?\n",
      "_publ_contact_letter   ?\n",
      "_publ_requested_journal   ?\n",
      "_publ_requested_coeditor_name   ?\n",
      "_publ_requested_category   ?\n",
      "_journal_data_validation_number   ?\n",
      "_journal_date_recd_electronic   ?\n",
      "_journal_date_to_coeditor   ?\n",
      "_journal_date_from_coeditor   ?\n",
      "_journal_date_accepted   ?\n",
      "_journal_date_printers_first   ?\n",
      "_journal_date_printers_final   ?\n",
      "_journal_date_proofs_out   ?\n",
      "_journal_date_proofs_in   ?\n",
      "_journal_coeditor_name   ?\n",
      "_journal_coeditor_code   ?\n",
      "_journal_coeditor_notes   ?\n",
      "_journal_techeditor_code   ?\n",
      "_journal_techeditor_notes   ?\n",
      "_journal_coden_ASTM   ?\n",
      "_journal_name_full   ?\n",
      "_journal_year   ?\n",
      "_journal_volume   ?\n",
      "_journal_issue   ?\n",
      "_journal_page_first   ?\n",
      "_journal_page_last   ?\n",
      "_journal_paper_category   ?\n",
      "_journal_suppl_publ_number   ?\n",
      "_journal_suppl_publ_pages   ?\n",
      "_publ_section_title   ?\n",
      "_publ_section_title_footnote   ?\n",
      "loop_\n",
      " _publ_author_name\n",
      " _publ_author_footnote\n",
      " _publ_author_address\n",
      "  ?  ?  ?\n",
      "_publ_section_synopsis   ?\n",
      "_publ_section_abstract   ?\n",
      "_publ_section_comment   ?\n",
      "_publ_section_exptl_prep   ?\n",
      "_publ_section_exptl_refinement   ?\n",
      "_publ_section_references   ?\n",
      "_publ_section_figure_captions   ?\n",
      "_publ_section_acknowledgements   ?\n",
      "_refine_special_details   ?\n",
      "_pd_proc_ls_special_details   ?\n",
      "_computing_molecular_graphics   ?\n",
      "_computing_publication_material   ?\n",
      "_refine_ls_weighting_scheme   ?\n",
      "_refine_ls_weighting_details   ?\n",
      "_refine_ls_hydrogen_treatment   ?\n",
      "_refine_ls_extinction_method   ?\n",
      "_refine_ls_extinction_coef   ?\n",
      "_refine_ls_number_constraints   ?\n",
      "_refine_ls_restrained_S_all   ?\n",
      "_refine_ls_restrained_S_obs   ?\n",
      "_pd_prep_cool_rate   ?\n",
      "_pd_prep_pressure   ?\n",
      "_pd_prep_temperature   ?\n",
      "_pd_char_colour   ?\n",
      "  warnings.warn(str(d))\n",
      "/Users/gjonesresearch/miniconda3/envs/DevPIs/lib/python3.8/site-packages/pymatgen/io/cif.py:1157: UserWarning: Error is '_atom_site_label'.\n",
      "  warnings.warn(f\"Error is {str(exc)}.\")\n",
      "/Users/gjonesresearch/miniconda3/envs/DevPIs/lib/python3.8/site-packages/pymatgen/io/cif.py:1155: UserWarning: No structure parsed for 2 structure in CIF. Section of CIF file below.\n",
      "  warnings.warn(f\"No structure parsed for {i + 1} structure in CIF. Section of CIF file below.\")\n",
      "/Users/gjonesresearch/miniconda3/envs/DevPIs/lib/python3.8/site-packages/pymatgen/io/cif.py:1156: UserWarning: data_EMM37ASMADE_overall\n",
      "_refine_ls_shift/su_max   1.71\n",
      "_refine_ls_shift/su_mean   0.33\n",
      "_computing_structure_refinement   GSAS\n",
      "_refine_ls_number_parameters   112\n",
      "_refine_ls_goodness_of_fit_all   1.02\n",
      "_refine_ls_number_restraints   90\n",
      "_refine_ls_matrix_type   full\n",
      "loop_\n",
      " _pd_phase_block_id\n",
      "  2018-01-19T10:58|EMM37ASMADE_phase1|allen_burton||\n",
      "loop_\n",
      " _pd_block_diffractogram_id\n",
      "  ?\n",
      "  warnings.warn(str(d))\n",
      "/Users/gjonesresearch/miniconda3/envs/DevPIs/lib/python3.8/site-packages/pymatgen/io/cif.py:1160: UserWarning: Issues encountered while parsing CIF: No _symmetry_equiv_pos_as_xyz type key found. Defaulting to P1.\n",
      "'_atom_site_label'\n",
      "No _symmetry_equiv_pos_as_xyz type key found. Defaulting to P1.\n",
      "'_atom_site_label'\n",
      "  warnings.warn(\"Issues encountered while parsing CIF: %s\" % \"\\n\".join(self.warnings))\n"
     ]
    },
    {
     "name": "stdout",
     "output_type": "stream",
     "text": [
      "Batch 1 Finished.                                                                                                                   \n",
      "Validating property : \"has_oms\"\n",
      "Validated 100 %                                                                                                     \n",
      "\n",
      "Analysis Finished. Time required:4911.68 sec\n",
      "--------------------------------------------------\n"
     ]
    }
   ],
   "source": [
    "a_mof_collection.analyse_mofs()"
   ]
  },
  {
   "cell_type": "markdown",
   "metadata": {},
   "source": [
    "### How to overwrite results\n",
    "\n",
    "If we try to re-run the analysis code it will by default only analyze MOFs for which no results can be found. This makes it easy to resume a calculation that ended prematurely."
   ]
  },
  {
   "cell_type": "code",
   "execution_count": 31,
   "metadata": {},
   "outputs": [],
   "source": [
    "# a_mof_collection.analyse_mofs()"
   ]
  },
  {
   "cell_type": "markdown",
   "metadata": {},
   "source": [
    "To control this behavior and force all the MOFs for which results exist to be reanalyzed we can set the keyword **overwrite** to True."
   ]
  },
  {
   "cell_type": "code",
   "execution_count": 32,
   "metadata": {},
   "outputs": [],
   "source": [
    "# a_mof_collection.analyse_mofs(overwrite=True)"
   ]
  },
  {
   "cell_type": "markdown",
   "metadata": {},
   "source": [
    "### Run analysis in parallel\n",
    "\n",
    "Since every MOF can be analyzed separately we can parallelize the analysis by splitting the structures in batches and running each batch as a separate process. The number of batches is specified using the **num_batches** keyword for which the default value is 1. The structures are first ordered based on the square of the number of atoms and then split into batches. This ensures that all the batches will run roughly in the same time, which results in a time efficient completion of the analysis."
   ]
  },
  {
   "cell_type": "code",
   "execution_count": 33,
   "metadata": {},
   "outputs": [],
   "source": [
    "# a_mof_collection.analyse_mofs(num_batches=3, overwrite=True)"
   ]
  },
  {
   "cell_type": "markdown",
   "metadata": {},
   "source": [
    "## Summarizing Results\n",
    "\n",
    "### Summary for each metal type\n",
    "\n",
    "We can get a table that summarizes the findings for each metal type using the __summarize_results()__ function."
   ]
  },
  {
   "cell_type": "code",
   "execution_count": 34,
   "metadata": {},
   "outputs": [
    {
     "name": "stdout",
     "output_type": "stream",
     "text": [
      "\n",
      "Validating property : \"has_oms\"\n",
      "Validated 100 %                                                                                                     \n",
      "No Metal Found in *UOE\n",
      "No Metal Found in -SYT\n",
      "No Metal Found in EWO\n",
      "No Metal Found in SFH\n",
      "No Metal Found in ATS\n",
      "No Metal Found in POR\n",
      "No Metal Found in PTY\n",
      "No Metal Found in IFW\n",
      "No Metal Found in SFS\n",
      "No Metal Found in SFG\n",
      "--------------------------------------------------\n",
      "Number of total MOFs: 245\n",
      "Number of total MOFs with open metal sites: 6\n",
      "Number of total unique sites: 1114\n",
      "Number of total unique open metal sites: 7\n",
      "--------------------------------------------------\n",
      "Summary Table\n",
      "\n",
      "       MOFs  MOFs_with_OMS  Metal Sites  OMS MOFs_with_OMS(%) OMS (%)\n",
      "metal                                                                \n",
      "Si      244              6         1112    7           2.46 %  0.63 %\n",
      "Al        1              0            2    0           0.00 %  0.00 %\n"
     ]
    }
   ],
   "source": [
    "a_mof_collection.summarize_results()"
   ]
  },
  {
   "cell_type": "markdown",
   "metadata": {},
   "source": [
    "### Summary for each MOF\n",
    "\n",
    "We can obtain a DataFrame for the OMS for each MOF using the __mof_oms_df__ variable of the __MofCollection__ object."
   ]
  },
  {
   "cell_type": "code",
   "execution_count": 35,
   "metadata": {},
   "outputs": [
    {
     "name": "stdout",
     "output_type": "stream",
     "text": [
      "\n",
      "Validating property : \"has_oms\"\n",
      "Validated 100 %                                                                                                     \n",
      "No Metal Found in *UOE\n"
     ]
    },
    {
     "ename": "TypeError",
     "evalue": "'NoneType' object is not iterable",
     "output_type": "error",
     "traceback": [
      "\u001b[0;31m---------------------------------------------------------------------------\u001b[0m",
      "\u001b[0;31mTypeError\u001b[0m                                 Traceback (most recent call last)",
      "Input \u001b[0;32mIn [35]\u001b[0m, in \u001b[0;36m<cell line: 1>\u001b[0;34m()\u001b[0m\n\u001b[0;32m----> 1\u001b[0m mofs_df \u001b[38;5;241m=\u001b[39m \u001b[43ma_mof_collection\u001b[49m\u001b[38;5;241;43m.\u001b[39;49m\u001b[43mmof_oms_df\u001b[49m\n\u001b[1;32m      2\u001b[0m \u001b[38;5;28mprint\u001b[39m(mofs_df)\n",
      "File \u001b[0;32m~/miniconda3/envs/DevPIs/lib/python3.8/site-packages/open_metal_detector-2018.12.3-py3.8.egg/omsdetector/mof_collection.py:144\u001b[0m, in \u001b[0;36mMofCollection.mof_oms_df\u001b[0;34m(self)\u001b[0m\n\u001b[1;32m    142\u001b[0m     \u001b[38;5;28;01melse\u001b[39;00m:\n\u001b[1;32m    143\u001b[0m         has_oms \u001b[38;5;241m=\u001b[39m \u001b[38;5;124m'\u001b[39m\u001b[38;5;124mNo\u001b[39m\u001b[38;5;124m'\u001b[39m\n\u001b[0;32m--> 144\u001b[0m     all_metal_species \u001b[38;5;241m=\u001b[39m \u001b[38;5;124m\"\u001b[39m\u001b[38;5;124m,\u001b[39m\u001b[38;5;124m\"\u001b[39m\u001b[38;5;241m.\u001b[39mjoin(\u001b[38;5;28;43mset\u001b[39;49m\u001b[43m(\u001b[49m\u001b[43mmp\u001b[49m\u001b[43m[\u001b[49m\u001b[38;5;124;43m'\u001b[39;49m\u001b[38;5;124;43mmetal_species\u001b[39;49m\u001b[38;5;124;43m'\u001b[39;49m\u001b[43m]\u001b[49m\u001b[43m)\u001b[49m)\n\u001b[1;32m    145\u001b[0m     mof_info[mp[\u001b[38;5;124m'\u001b[39m\u001b[38;5;124mname\u001b[39m\u001b[38;5;124m'\u001b[39m]] \u001b[38;5;241m=\u001b[39m {\u001b[38;5;124m'\u001b[39m\u001b[38;5;124mMetal Types\u001b[39m\u001b[38;5;124m'\u001b[39m: all_metal_species,\n\u001b[1;32m    146\u001b[0m                             \u001b[38;5;124m'\u001b[39m\u001b[38;5;124mHas OMS\u001b[39m\u001b[38;5;124m'\u001b[39m: has_oms,\n\u001b[1;32m    147\u001b[0m                             \u001b[38;5;124m'\u001b[39m\u001b[38;5;124mOMS Types\u001b[39m\u001b[38;5;124m'\u001b[39m: oms_types}\n\u001b[1;32m    148\u001b[0m \u001b[38;5;28mself\u001b[39m\u001b[38;5;241m.\u001b[39m_metal_site_df \u001b[38;5;241m=\u001b[39m pd\u001b[38;5;241m.\u001b[39mDataFrame\u001b[38;5;241m.\u001b[39mfrom_dict(mof_info,\n\u001b[1;32m    149\u001b[0m                                              orient\u001b[38;5;241m=\u001b[39m\u001b[38;5;124m'\u001b[39m\u001b[38;5;124mindex\u001b[39m\u001b[38;5;124m'\u001b[39m)\n",
      "\u001b[0;31mTypeError\u001b[0m: 'NoneType' object is not iterable"
     ]
    }
   ],
   "source": [
    "mofs_df = a_mof_collection.mof_oms_df\n",
    "print(mofs_df)"
   ]
  },
  {
   "cell_type": "markdown",
   "metadata": {},
   "source": [
    "We can then use standard pandas operations to select MOFs, for example, with certain metals or all MOFs that have OMS."
   ]
  },
  {
   "cell_type": "code",
   "execution_count": null,
   "metadata": {},
   "outputs": [],
   "source": [
    "print(\"MOFs that contain Fe\")\n",
    "print(mofs_df[mofs_df[\"Metal Types\"].str.contains(\"Fe\")])\n",
    "print(\"\\nMOFs that have OMS\")\n",
    "print(mofs_df[mofs_df[\"Has OMS\"] == \"Yes\"])"
   ]
  },
  {
   "cell_type": "markdown",
   "metadata": {},
   "source": [
    "### Filter collection using results\n",
    "\n",
    "Finally, we can use the filter function to isolate, for example, MOFs that have Co metal sites and that contain open metal sites. We can also copy the cif files and result files for this subset to new locations by providing values for the **new_collection_folder** and **new_analysis_folder** keywords."
   ]
  },
  {
   "cell_type": "code",
   "execution_count": null,
   "metadata": {},
   "outputs": [],
   "source": [
    "Fe_oms = a_mof_collection.filter_collection(using_filter={\"metal_species\":[\"Fe\"], \"has_oms\":True},\n",
    "                                            new_collection_folder='Fe_oms',\n",
    "                                            new_analysis_folder='Fe_oms_analysis')\n",
    "\n",
    "print(Fe_oms)"
   ]
  },
  {
   "cell_type": "code",
   "execution_count": null,
   "metadata": {},
   "outputs": [],
   "source": []
  }
 ],
 "metadata": {
  "kernelspec": {
   "display_name": "DevPIs",
   "language": "python",
   "name": "devpis"
  },
  "language_info": {
   "codemirror_mode": {
    "name": "ipython",
    "version": 3
   },
   "file_extension": ".py",
   "mimetype": "text/x-python",
   "name": "python",
   "nbconvert_exporter": "python",
   "pygments_lexer": "ipython3",
   "version": "3.8.12"
  }
 },
 "nbformat": 4,
 "nbformat_minor": 4
}
